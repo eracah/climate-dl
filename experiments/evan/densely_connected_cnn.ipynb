{
 "cells": [
  {
   "cell_type": "code",
   "execution_count": 2,
   "metadata": {
    "collapsed": false
   },
   "outputs": [],
   "source": [
    "import theano\n",
    "from theano import tensor as T\n",
    "import lasagne\n",
    "from lasagne.layers import *\n",
    "from lasagne.objectives import *\n",
    "from lasagne.nonlinearities import *\n",
    "from lasagne.updates import *\n",
    "from lasagne.utils import *\n",
    "import numpy as np\n",
    "import cPickle as pickle\n",
    "import gzip\n",
    "import matplotlib\n",
    "matplotlib.use('agg')\n",
    "import matplotlib.pyplot as plt\n",
    "from matplotlib import pyplot\n",
    "import os\n",
    "import sys\n",
    "from time import time\n",
    "import time\n",
    "if __name__ == \"__main__\":\n",
    "    sys.path.insert(0,'..')\n",
    "    from common import create_run_dir, plot_learn_curve\n",
    "else:\n",
    "    from ..common import create_run_dir, plot_learn_curve\n"
   ]
  },
  {
   "cell_type": "code",
   "execution_count": 3,
   "metadata": {
    "collapsed": false
   },
   "outputs": [],
   "source": [
    "import argparse\n",
    "if any([\"jupyter\" in arg for arg in sys.argv]):\n",
    "    sys.argv=sys.argv[:1]\n",
    "\n",
    "\n",
    "parser = argparse.ArgumentParser()\n",
    "\n",
    "parser.add_argument('-n', '--num_ims', default=2000, type=int,\n",
    "    help='number of total images')\n",
    "args = parser.parse_args()"
   ]
  },
  {
   "cell_type": "code",
   "execution_count": 4,
   "metadata": {
    "collapsed": false
   },
   "outputs": [],
   "source": [
    "from sklearn.datasets import fetch_mldata\n",
    "\n",
    "mnist = fetch_mldata('MNIST original')\n",
    "\n",
    "ims = mnist['data']\n",
    "\n",
    "ims.shape\n",
    "\n",
    "ims = ims.reshape(ims.shape[0],1, 28,28).astype('float64')\n",
    "\n",
    "lbls = mnist['target'].astype('int32')\n",
    "ims= ims[:args.num_ims]\n",
    "lbls = lbls[:args.num_ims]\n",
    "ims -= np.mean(ims)\n",
    "ims /= np.var(ims)\n",
    "\n",
    "num_ims = ims.shape[0]\n",
    "inds = np.arange(num_ims)\n",
    "np.random.RandomState(11).shuffle(inds)\n",
    "ims= ims[inds]\n",
    "lbls =lbls[inds]\n",
    "\n",
    "im_tr, lbl_tr, im_val, lbl_val = ims[:int(0.8*num_ims)], lbls[:int(0.8*num_ims)], \\\n",
    "                                 ims[int(0.8*num_ims):], lbls[int(0.8*num_ims):]"
   ]
  },
  {
   "cell_type": "code",
   "execution_count": 5,
   "metadata": {
    "collapsed": true
   },
   "outputs": [],
   "source": [
    "def iterate_minibatches(inputs, targets, batchsize, shuffle=False):\n",
    "    assert len(inputs) == len(targets)\n",
    "    if shuffle:\n",
    "        indices = np.arange(len(inputs))\n",
    "        np.random.shuffle(indices)\n",
    "    if batchsize > inputs.shape[0]:\n",
    "        batchsize=inputs.shape[0]\n",
    "    for start_idx in range(0,len(inputs) - batchsize + 1, batchsize):\n",
    "        if shuffle:\n",
    "            excerpt = indices[start_idx: start_idx + batchsize]\n",
    "        else:\n",
    "            excerpt = slice(start_idx, start_idx + batchsize)\n",
    "        yield inputs[excerpt], targets[excerpt]"
   ]
  },
  {
   "cell_type": "code",
   "execution_count": 6,
   "metadata": {
    "collapsed": true
   },
   "outputs": [],
   "source": [
    "def get_net(net_cfg, args):\n",
    "    l_out = net_cfg(args)\n",
    "    X = T.tensor4('X')\n",
    "    Y= T.ivector('Y')\n",
    "    net_out = get_output(l_out, X)\n",
    "    loss = categorical_crossentropy(net_out, Y).mean()\n",
    "    net_out_det = get_output(l_out, X, deterministic=True)\n",
    "    acc = lasagne.objectives.categorical_accuracy(net_out_det,Y).mean()\n",
    "    params = get_all_params(l_out, trainable=True)\n",
    "    lr = theano.shared(floatX(args[\"learning_rate\"]))\n",
    "    if \"rmsprop\" in args:\n",
    "        updates = rmsprop(loss, params, learning_rate=lr)\n",
    "    else:\n",
    "        updates = nesterov_momentum(loss, params, learning_rate=lr, momentum=0.9)\n",
    "    #updates = adadelta(loss, params, learning_rate=lr)\n",
    "    #updates = rmsprop(loss, params, learning_rate=lr)\n",
    "    train_fn = theano.function([X, Y], loss, updates=updates)\n",
    "    loss_fn = theano.function([X, Y], loss)\n",
    "    val_fn = theano.function([X,Y], [loss,acc])\n",
    "    out_fn = theano.function([X], net_out_det)\n",
    "    return {\n",
    "        \"train_fn\": train_fn,\n",
    "        \"loss_fn\": loss_fn,\n",
    "        \"out_fn\": out_fn,\n",
    "        \"val_fn\": val_fn,\n",
    "        \"lr\": lr,\n",
    "        \"l_out\": l_out\n",
    "    }"
   ]
  },
  {
   "cell_type": "code",
   "execution_count": 7,
   "metadata": {
    "collapsed": false
   },
   "outputs": [],
   "source": [
    "def dense_conv(args):\n",
    "    conv_kwargs = dict(filter_size=3, pad=1, nonlinearity=args[\"nonlinearity\"])\n",
    "    inp = InputLayer(args[\"input_shape\"])\n",
    "    conc = Conv2DLayer(inp, num_filters=args['k0'], **conv_kwargs)\n",
    "    conv_kwargs.update({'num_filters': args['k']})\n",
    "    block_layers = [conc]\n",
    "    for j in range(args['B']):\n",
    "        for i in range(args['L']):\n",
    "            bn = BatchNormLayer(conc)\n",
    "            bn_relu = NonlinearityLayer(bn ,nonlinearity=args['nonlinearity'])\n",
    "            bn_relu_conv = Conv2DLayer(bn_relu, **conv_kwargs)\n",
    "            block_layers.append(bn_relu_conv)\n",
    "            conc = ConcatLayer(block_layers, axis=1)\n",
    "        \n",
    "        if j < args['B']:\n",
    "            conv = Conv2DLayer(conc, num_filters=conc.output_shape[1], filter_size=1)\n",
    "            conc = Pool2DLayer(conv,pool_size=2,stride=2, mode='average_exc_pad')\n",
    "            block_layers=[conc]\n",
    "    \n",
    "    conc = Pool2DLayer(conc, pool_size=2, stride=2,mode='average_exc_pad')\n",
    "    sm = DenseLayer(conc, num_units=args['num_classes'], nonlinearity=softmax)\n",
    "    for layer in get_all_layers(sm):\n",
    "        print  layer, layer.output_shape\n",
    "    print count_params(layer)\n",
    "    print sm.output_shape\n",
    "    return sm\n",
    "\n",
    "    "
   ]
  },
  {
   "cell_type": "code",
   "execution_count": 8,
   "metadata": {
    "collapsed": false
   },
   "outputs": [
    {
     "name": "stdout",
     "output_type": "stream",
     "text": [
      "<lasagne.layers.input.InputLayer object at 0x7f59aff17910> (None, 1, 28, 28)\n",
      "<lasagne.layers.conv.Conv2DLayer object at 0x7f59a6abe450> (None, 16, 28, 28)\n",
      "<lasagne.layers.normalization.BatchNormLayer object at 0x7f59a33e7990> (None, 16, 28, 28)\n",
      "<lasagne.layers.special.NonlinearityLayer object at 0x7f59a33f9590> (None, 16, 28, 28)\n",
      "<lasagne.layers.conv.Conv2DLayer object at 0x7f59a33f96d0> (None, 3, 28, 28)\n",
      "<lasagne.layers.merge.ConcatLayer object at 0x7f59a33f9810> (None, 19, 28, 28)\n",
      "<lasagne.layers.normalization.BatchNormLayer object at 0x7f59a33f9990> (None, 19, 28, 28)\n",
      "<lasagne.layers.special.NonlinearityLayer object at 0x7f59a33f9dd0> (None, 19, 28, 28)\n",
      "<lasagne.layers.conv.Conv2DLayer object at 0x7f59a33f9f10> (None, 3, 28, 28)\n",
      "<lasagne.layers.merge.ConcatLayer object at 0x7f59a3405090> (None, 22, 28, 28)\n",
      "<lasagne.layers.normalization.BatchNormLayer object at 0x7f59a3405210> (None, 22, 28, 28)\n",
      "<lasagne.layers.special.NonlinearityLayer object at 0x7f59a3405650> (None, 22, 28, 28)\n",
      "<lasagne.layers.conv.Conv2DLayer object at 0x7f59a3405790> (None, 3, 28, 28)\n",
      "<lasagne.layers.merge.ConcatLayer object at 0x7f59a34058d0> (None, 25, 28, 28)\n",
      "<lasagne.layers.normalization.BatchNormLayer object at 0x7f59a3405a50> (None, 25, 28, 28)\n",
      "<lasagne.layers.special.NonlinearityLayer object at 0x7f59a3405e90> (None, 25, 28, 28)\n",
      "<lasagne.layers.conv.Conv2DLayer object at 0x7f59a3405fd0> (None, 3, 28, 28)\n",
      "<lasagne.layers.merge.ConcatLayer object at 0x7f59a340d150> (None, 28, 28, 28)\n",
      "<lasagne.layers.normalization.BatchNormLayer object at 0x7f59a340d2d0> (None, 28, 28, 28)\n",
      "<lasagne.layers.special.NonlinearityLayer object at 0x7f59a340d710> (None, 28, 28, 28)\n",
      "<lasagne.layers.conv.Conv2DLayer object at 0x7f59a340d850> (None, 3, 28, 28)\n",
      "<lasagne.layers.merge.ConcatLayer object at 0x7f59a340d990> (None, 31, 28, 28)\n",
      "<lasagne.layers.conv.Conv2DLayer object at 0x7f59a33e7950> (None, 31, 28, 28)\n",
      "<lasagne.layers.pool.Pool2DLayer object at 0x7f59a340dc10> (None, 31, 14, 14)\n",
      "<lasagne.layers.normalization.BatchNormLayer object at 0x7f59a340ddd0> (None, 31, 14, 14)\n",
      "<lasagne.layers.special.NonlinearityLayer object at 0x7f59a339c250> (None, 31, 14, 14)\n",
      "<lasagne.layers.conv.Conv2DLayer object at 0x7f59a339c390> (None, 3, 14, 14)\n",
      "<lasagne.layers.merge.ConcatLayer object at 0x7f59a339c4d0> (None, 34, 14, 14)\n",
      "<lasagne.layers.normalization.BatchNormLayer object at 0x7f59a339c650> (None, 34, 14, 14)\n",
      "<lasagne.layers.special.NonlinearityLayer object at 0x7f59a339ca90> (None, 34, 14, 14)\n",
      "<lasagne.layers.conv.Conv2DLayer object at 0x7f59a339cbd0> (None, 3, 14, 14)\n",
      "<lasagne.layers.merge.ConcatLayer object at 0x7f59a339cd10> (None, 37, 14, 14)\n",
      "<lasagne.layers.normalization.BatchNormLayer object at 0x7f59a339ce90> (None, 37, 14, 14)\n",
      "<lasagne.layers.special.NonlinearityLayer object at 0x7f59a33a9310> (None, 37, 14, 14)\n",
      "<lasagne.layers.conv.Conv2DLayer object at 0x7f59a33a9450> (None, 3, 14, 14)\n",
      "<lasagne.layers.merge.ConcatLayer object at 0x7f59a33a9590> (None, 40, 14, 14)\n",
      "<lasagne.layers.normalization.BatchNormLayer object at 0x7f59a33a9710> (None, 40, 14, 14)\n",
      "<lasagne.layers.special.NonlinearityLayer object at 0x7f59a33a9b50> (None, 40, 14, 14)\n",
      "<lasagne.layers.conv.Conv2DLayer object at 0x7f59a33a9c90> (None, 3, 14, 14)\n",
      "<lasagne.layers.merge.ConcatLayer object at 0x7f59a33a9dd0> (None, 43, 14, 14)\n",
      "<lasagne.layers.normalization.BatchNormLayer object at 0x7f59a33a9f50> (None, 43, 14, 14)\n",
      "<lasagne.layers.special.NonlinearityLayer object at 0x7f59a33b63d0> (None, 43, 14, 14)\n",
      "<lasagne.layers.conv.Conv2DLayer object at 0x7f59a33b6510> (None, 3, 14, 14)\n",
      "<lasagne.layers.merge.ConcatLayer object at 0x7f59a33b6650> (None, 46, 14, 14)\n",
      "<lasagne.layers.conv.Conv2DLayer object at 0x7f59a340dd90> (None, 46, 14, 14)\n",
      "<lasagne.layers.pool.Pool2DLayer object at 0x7f59a33b68d0> (None, 46, 7, 7)\n",
      "<lasagne.layers.pool.Pool2DLayer object at 0x7f59a33e77d0> (None, 46, 3, 3)\n",
      "<lasagne.layers.dense.DenseLayer object at 0x7f59a33b6a50> (None, 10)\n",
      "16639\n",
      "(None, 10)\n"
     ]
    }
   ],
   "source": [
    "args = {\"B\":2, \"L\": 5, 'k':3, 'k0':16, \"num_classes\":10, \"input_shape\": (None,1,28,28), \"learning_rate\": 0.01, \"sigma\":0.1, \"nonlinearity\":elu, \"f\":128, \"tied\":False }\n",
    "net_cfg = get_net(dense_conv, args)"
   ]
  },
  {
   "cell_type": "code",
   "execution_count": 9,
   "metadata": {
    "collapsed": false
   },
   "outputs": [
    {
     "name": "stderr",
     "output_type": "stream",
     "text": [
      "train size = 1600, val size = 400\n"
     ]
    },
    {
     "name": "stdout",
     "output_type": "stream",
     "text": [
      "2.91703161262\n",
      "1.81779152405\n",
      "0.836217279241\n",
      "0.231523964682\n",
      "Traceback (most recent call last):\n",
      "  File \"/global/common/cori/software/python/2.7-anaconda/envs/deeplearning/lib/python2.7/site-packages/IPython/core/ultratb.py\", line 1132, in get_records\n",
      "    return _fixed_getinnerframes(etb, number_of_lines_of_context, tb_offset)\n",
      "  File \"/global/common/cori/software/python/2.7-anaconda/envs/deeplearning/lib/python2.7/site-packages/IPython/core/ultratb.py\", line 313, in wrapped\n",
      "    return f(*args, **kwargs)\n",
      "  File \"/global/common/cori/software/python/2.7-anaconda/envs/deeplearning/lib/python2.7/site-packages/IPython/core/ultratb.py\", line 358, in _fixed_getinnerframes\n",
      "    records = fix_frame_records_filenames(inspect.getinnerframes(etb, context))\n",
      "  File \"/global/common/cori/software/python/2.7-anaconda/envs/deeplearning/lib/python2.7/inspect.py\", line 1049, in getinnerframes\n",
      "    framelist.append((tb.tb_frame,) + getframeinfo(tb, context))\n",
      "  File \"/global/common/cori/software/python/2.7-anaconda/envs/deeplearning/lib/python2.7/inspect.py\", line 1009, in getframeinfo\n",
      "    filename = getsourcefile(frame) or getfile(frame)\n",
      "  File \"/global/common/cori/software/python/2.7-anaconda/envs/deeplearning/lib/python2.7/inspect.py\", line 454, in getsourcefile\n",
      "    if hasattr(getmodule(object, filename), '__loader__'):\n",
      "  File \"/global/common/cori/software/python/2.7-anaconda/envs/deeplearning/lib/python2.7/inspect.py\", line 497, in getmodule\n",
      "    f = getabsfile(module)\n",
      "  File \"/global/common/cori/software/python/2.7-anaconda/envs/deeplearning/lib/python2.7/inspect.py\", line 466, in getabsfile\n",
      "    _filename = getsourcefile(object) or getfile(object)\n",
      "  File \"/global/common/cori/software/python/2.7-anaconda/envs/deeplearning/lib/python2.7/inspect.py\", line 451, in getsourcefile\n",
      "    if os.path.exists(filename):\n",
      "  File \"/global/common/cori/software/python/2.7-anaconda/envs/deeplearning/lib/python2.7/genericpath.py\", line 26, in exists\n",
      "    os.stat(path)\n",
      "KeyboardInterrupt\n"
     ]
    },
    {
     "ename": "IndexError",
     "evalue": "string index out of range",
     "output_type": "error",
     "traceback": [
      "\u001b[0;31m\u001b[0m",
      "\u001b[0;31mIndexError\u001b[0mTraceback (most recent call last)",
      "\u001b[0;32m/global/common/cori/software/python/2.7-anaconda/envs/deeplearning/lib/python2.7/site-packages/IPython/core/interactiveshell.pyc\u001b[0m in \u001b[0;36mrun_code\u001b[0;34m(self, code_obj, result)\u001b[0m\n\u001b[1;32m   2884\u001b[0m             \u001b[0;32mif\u001b[0m \u001b[0mresult\u001b[0m \u001b[0;32mis\u001b[0m \u001b[0;32mnot\u001b[0m \u001b[0mNone\u001b[0m\u001b[0;34m:\u001b[0m\u001b[0;34m\u001b[0m\u001b[0m\n\u001b[1;32m   2885\u001b[0m                 \u001b[0mresult\u001b[0m\u001b[0;34m.\u001b[0m\u001b[0merror_in_exec\u001b[0m \u001b[0;34m=\u001b[0m \u001b[0msys\u001b[0m\u001b[0;34m.\u001b[0m\u001b[0mexc_info\u001b[0m\u001b[0;34m(\u001b[0m\u001b[0;34m)\u001b[0m\u001b[0;34m[\u001b[0m\u001b[0;36m1\u001b[0m\u001b[0;34m]\u001b[0m\u001b[0;34m\u001b[0m\u001b[0m\n\u001b[0;32m-> 2886\u001b[0;31m             \u001b[0mself\u001b[0m\u001b[0;34m.\u001b[0m\u001b[0mshowtraceback\u001b[0m\u001b[0;34m(\u001b[0m\u001b[0;34m)\u001b[0m\u001b[0;34m\u001b[0m\u001b[0m\n\u001b[0m\u001b[1;32m   2887\u001b[0m         \u001b[0;32melse\u001b[0m\u001b[0;34m:\u001b[0m\u001b[0;34m\u001b[0m\u001b[0m\n\u001b[1;32m   2888\u001b[0m             \u001b[0moutflag\u001b[0m \u001b[0;34m=\u001b[0m \u001b[0;36m0\u001b[0m\u001b[0;34m\u001b[0m\u001b[0m\n",
      "\u001b[0;32m/global/common/cori/software/python/2.7-anaconda/envs/deeplearning/lib/python2.7/site-packages/IPython/core/interactiveshell.pyc\u001b[0m in \u001b[0;36mshowtraceback\u001b[0;34m(self, exc_tuple, filename, tb_offset, exception_only)\u001b[0m\n\u001b[1;32m   1810\u001b[0m                     \u001b[0;32mexcept\u001b[0m \u001b[0mException\u001b[0m\u001b[0;34m:\u001b[0m\u001b[0;34m\u001b[0m\u001b[0m\n\u001b[1;32m   1811\u001b[0m                         stb = self.InteractiveTB.structured_traceback(etype,\n\u001b[0;32m-> 1812\u001b[0;31m                                             value, tb, tb_offset=tb_offset)\n\u001b[0m\u001b[1;32m   1813\u001b[0m \u001b[0;34m\u001b[0m\u001b[0m\n\u001b[1;32m   1814\u001b[0m                     \u001b[0mself\u001b[0m\u001b[0;34m.\u001b[0m\u001b[0m_showtraceback\u001b[0m\u001b[0;34m(\u001b[0m\u001b[0metype\u001b[0m\u001b[0;34m,\u001b[0m \u001b[0mvalue\u001b[0m\u001b[0;34m,\u001b[0m \u001b[0mstb\u001b[0m\u001b[0;34m)\u001b[0m\u001b[0;34m\u001b[0m\u001b[0m\n",
      "\u001b[0;32m/global/common/cori/software/python/2.7-anaconda/envs/deeplearning/lib/python2.7/site-packages/IPython/core/ultratb.pyc\u001b[0m in \u001b[0;36mstructured_traceback\u001b[0;34m(self, etype, value, tb, tb_offset, number_of_lines_of_context)\u001b[0m\n\u001b[1;32m   1404\u001b[0m         \u001b[0mself\u001b[0m\u001b[0;34m.\u001b[0m\u001b[0mtb\u001b[0m \u001b[0;34m=\u001b[0m \u001b[0mtb\u001b[0m\u001b[0;34m\u001b[0m\u001b[0m\n\u001b[1;32m   1405\u001b[0m         return FormattedTB.structured_traceback(\n\u001b[0;32m-> 1406\u001b[0;31m             self, etype, value, tb, tb_offset, number_of_lines_of_context)\n\u001b[0m\u001b[1;32m   1407\u001b[0m \u001b[0;34m\u001b[0m\u001b[0m\n\u001b[1;32m   1408\u001b[0m \u001b[0;34m\u001b[0m\u001b[0m\n",
      "\u001b[0;32m/global/common/cori/software/python/2.7-anaconda/envs/deeplearning/lib/python2.7/site-packages/IPython/core/ultratb.pyc\u001b[0m in \u001b[0;36mstructured_traceback\u001b[0;34m(self, etype, value, tb, tb_offset, number_of_lines_of_context)\u001b[0m\n\u001b[1;32m   1312\u001b[0m             \u001b[0;31m# Verbose modes need a full traceback\u001b[0m\u001b[0;34m\u001b[0m\u001b[0;34m\u001b[0m\u001b[0m\n\u001b[1;32m   1313\u001b[0m             return VerboseTB.structured_traceback(\n\u001b[0;32m-> 1314\u001b[0;31m                 \u001b[0mself\u001b[0m\u001b[0;34m,\u001b[0m \u001b[0metype\u001b[0m\u001b[0;34m,\u001b[0m \u001b[0mvalue\u001b[0m\u001b[0;34m,\u001b[0m \u001b[0mtb\u001b[0m\u001b[0;34m,\u001b[0m \u001b[0mtb_offset\u001b[0m\u001b[0;34m,\u001b[0m \u001b[0mnumber_of_lines_of_context\u001b[0m\u001b[0;34m\u001b[0m\u001b[0m\n\u001b[0m\u001b[1;32m   1315\u001b[0m             )\n\u001b[1;32m   1316\u001b[0m         \u001b[0;32melse\u001b[0m\u001b[0;34m:\u001b[0m\u001b[0;34m\u001b[0m\u001b[0m\n",
      "\u001b[0;32m/global/common/cori/software/python/2.7-anaconda/envs/deeplearning/lib/python2.7/site-packages/IPython/core/ultratb.pyc\u001b[0m in \u001b[0;36mstructured_traceback\u001b[0;34m(self, etype, evalue, etb, tb_offset, number_of_lines_of_context)\u001b[0m\n\u001b[1;32m   1196\u001b[0m                 \u001b[0mstructured_traceback_parts\u001b[0m \u001b[0;34m+=\u001b[0m \u001b[0mformatted_exception\u001b[0m\u001b[0;34m\u001b[0m\u001b[0m\n\u001b[1;32m   1197\u001b[0m         \u001b[0;32melse\u001b[0m\u001b[0;34m:\u001b[0m\u001b[0;34m\u001b[0m\u001b[0m\n\u001b[0;32m-> 1198\u001b[0;31m             \u001b[0mstructured_traceback_parts\u001b[0m \u001b[0;34m+=\u001b[0m \u001b[0mformatted_exception\u001b[0m\u001b[0;34m[\u001b[0m\u001b[0;36m0\u001b[0m\u001b[0;34m]\u001b[0m\u001b[0;34m\u001b[0m\u001b[0m\n\u001b[0m\u001b[1;32m   1199\u001b[0m \u001b[0;34m\u001b[0m\u001b[0m\n\u001b[1;32m   1200\u001b[0m         \u001b[0;32mreturn\u001b[0m \u001b[0mstructured_traceback_parts\u001b[0m\u001b[0;34m\u001b[0m\u001b[0m\n",
      "\u001b[0;31mIndexError\u001b[0m: string index out of range"
     ]
    }
   ],
   "source": [
    "\n",
    "num_epochs = 5000\n",
    "batch_size = 128\n",
    "import logging\n",
    "run_dir = create_run_dir()\n",
    "try:\n",
    "    print logger\n",
    "except:\n",
    "    logger = logging.getLogger('log_train')\n",
    "    logger.setLevel(logging.INFO)\n",
    "    fh = logging.FileHandler('%s/training.log'%(run_dir))\n",
    "    fh.setLevel(logging.INFO)\n",
    "    ch = logging.StreamHandler()\n",
    "    ch.setLevel(logging.INFO)\n",
    "    logger.addHandler(ch)\n",
    "    logger.addHandler(fh)\n",
    "logger.info(\"train size = %i, val size = %i\"%(im_tr.shape[0], im_val.shape[0])) \n",
    "tr_losses = []\n",
    "val_losses = []\n",
    "\n",
    "for epoch in range(num_epochs):\n",
    "    start = time.time() \n",
    "    tr_loss = 0\n",
    "    for iteration, (x, y) in enumerate(iterate_minibatches(im_tr,lbl_tr,batchsize=batch_size)):  \n",
    "        loss = net_cfg['train_fn'](x,y)\n",
    "        print loss\n",
    "        tr_loss += loss\n",
    "    \n",
    "    train_end = time.time()\n",
    "    tr_avgloss = tr_loss / (iteration + 1)\n",
    "    \n",
    "    \n",
    "    logger.info(\"train time : %5.2f seconds\" % (train_end - start))\n",
    "    logger.info(\" epoch %i of %i train loss is %f\" % (epoch, num_epochs, tr_avgloss))\n",
    "    tr_losses.append(tr_avgloss)\n",
    "    \n",
    "    val_loss = 0\n",
    "    val_acc =0 \n",
    "    for iteration, (xval, yval) in enumerate(iterate_minibatches(im_val,lbl_val,batchsize=batch_size)):\n",
    "        loss,acc = net_cfg['val_fn'](xval, yval)\n",
    "        val_acc += acc\n",
    "        val_loss += loss\n",
    "    \n",
    "    val_avgacc = val_acc / (iteration + 1) \n",
    "    val_avgloss = val_loss / (iteration + 1)   \n",
    "    logger.info(\"val time : %5.2f seconds\" % (time.time() - train_end))\n",
    "\n",
    "    logger.info(\" epoch %i of %i val loss is %f\" % (epoch, num_epochs, val_avgloss))\n",
    "    logger.info(\" epoch %i of %i val acc is %f percent\" % (epoch, num_epochs, 100*val_avgacc))\n",
    "    val_losses.append(val_avgloss)\n",
    "    \n",
    "    plot_learn_curve(tr_losses, val_losses, save_dir=run_dir)\n",
    "#     if epoch % 5 == 0:\n",
    "#         plot_filters(net_cfg['l_out'], save_dir=run_dir)\n",
    "#         for iteration, (x,y) in enumerate(data_iterator(batch_size=batch_size, step_size=128, days=1, month1='01', day1='01')):\n",
    "#             plot_recs(iteration,x,net_cfg=net_cfg, save_dir=run_dir)\n",
    "#             plot_clusters(iteration,x,y,net_cfg=net_cfg, save_dir=run_dir)\n",
    "#             plot_feature_maps(iteration,x,net_cfg['l_out'], save_dir=run_dir)\n",
    "#             break;"
   ]
  },
  {
   "cell_type": "code",
   "execution_count": null,
   "metadata": {
    "collapsed": true
   },
   "outputs": [],
   "source": []
  },
  {
   "cell_type": "code",
   "execution_count": null,
   "metadata": {
    "collapsed": true
   },
   "outputs": [],
   "source": []
  }
 ],
 "metadata": {
  "kernelspec": {
   "display_name": "deeplearning",
   "language": "python",
   "name": "deeplearning"
  },
  "language_info": {
   "codemirror_mode": {
    "name": "ipython",
    "version": 2
   },
   "file_extension": ".py",
   "mimetype": "text/x-python",
   "name": "python",
   "nbconvert_exporter": "python",
   "pygments_lexer": "ipython2",
   "version": "2.7.12"
  }
 },
 "nbformat": 4,
 "nbformat_minor": 0
}
