{
 "cells": [
  {
   "cell_type": "code",
   "execution_count": 1,
   "metadata": {
    "collapsed": false
   },
   "outputs": [
    {
     "name": "stdout",
     "output_type": "stream",
     "text": [
      "[NbConvertApp] Converting notebook ./adversarial_ae.ipynb to script\n",
      "[NbConvertApp] Writing 8651 bytes to ./adversarial_ae.py\n",
      "[NbConvertApp] Converting notebook ./convert-notebooks.ipynb to script\n",
      "[NbConvertApp] Writing 1510 bytes to ./convert-notebooks.py\n",
      "[NbConvertApp] Converting notebook ./denoising_conv_ae.ipynb to script\n",
      "[NbConvertApp] Writing 6734 bytes to ./denoising_conv_ae.py\n",
      "[NbConvertApp] Converting notebook ./densely_connected_cnn.ipynb to script\n",
      "[NbConvertApp] Writing 17308 bytes to ./densely_connected_cnn.py\n",
      "[NbConvertApp] Converting notebook ./jan_densenet.ipynb to script\n",
      "[NbConvertApp] Writing 5410 bytes to ./jan_densenet.py\n",
      "[NbConvertApp] Converting notebook ./viz.ipynb to script\n",
      "[NbConvertApp] Writing 12843 bytes to ./viz.py\n"
     ]
    }
   ],
   "source": [
    "! jupyter nbconvert --to script ./*.ipynb\n",
    "\n",
    "import os\n",
    "import sys\n",
    "\n",
    "\n",
    "\n",
    "#.txt means file was open/not saved so converted to .txt not .py\n",
    "for fil in os.listdir('.'):\n",
    "    assert '.txt' not in fil, \"Save all your notebooks first!\"\n",
    "\n",
    "! mv __init__.py __init__.pyc      \n",
    "        \n",
    "\n",
    "! sed -i.bak 's/# coding: utf-8/import matplotlib; matplotlib.use(\"agg\")/g' ./*.py\n",
    "\n",
    "#get rid of IN[] lines\n",
    "!sed -i.bak '/# IN\\[*/d' ./*.py\n",
    "\n",
    "#get rid of ipython lines\n",
    "!sed -i.bak '/ipython*/d' ./*.py\n",
    "\n",
    "!sed -i.bak '/NotebookFinder*/d' ./*.py\n",
    "\n",
    "!sed -i.bak '/NotebookFinder*/d' ./*.py\n",
    "#get rid of IN[] lines\n",
    "!sed -i.bak '/# In\\[*/d' ./*.py\n",
    "\n",
    "!sed -i.bak '/# coding:*/d' ./*.py\n",
    "\n",
    "!sed -i.bak 's/plt.show()*/pass/g' ./*.py\n",
    "\n",
    "! rm *.bak\n",
    "! rm convert-notebooks.py\n",
    "\n",
    "#move to scripts\n",
    "! mv __init__.pyc __init__.py\n"
   ]
  },
  {
   "cell_type": "code",
   "execution_count": 3,
   "metadata": {
    "collapsed": false
   },
   "outputs": [],
   "source": [
    "! git add densely_connected_cnn.*"
   ]
  },
  {
   "cell_type": "code",
   "execution_count": 4,
   "metadata": {
    "collapsed": false
   },
   "outputs": [
    {
     "name": "stdout",
     "output_type": "stream",
     "text": [
      "[master 73b7b14] changed dense cnn to match exactly jan schulter\r\n",
      " 2 files changed, 96 insertions(+), 95 deletions(-)\r\n"
     ]
    }
   ],
   "source": [
    "! git commit -m \"changed dense cnn to match exactly jan schulter\""
   ]
  },
  {
   "cell_type": "code",
   "execution_count": 5,
   "metadata": {
    "collapsed": true
   },
   "outputs": [],
   "source": [
    "! git add ../common.py"
   ]
  },
  {
   "cell_type": "code",
   "execution_count": 7,
   "metadata": {
    "collapsed": false
   },
   "outputs": [
    {
     "name": "stdout",
     "output_type": "stream",
     "text": [
      "[master 9ff71f7] updated dense cnn tweaks in common\r\n",
      " 1 file changed, 7 insertions(+), 3 deletions(-)\r\n"
     ]
    }
   ],
   "source": [
    "! git commit -m \"updated dense cnn tweaks in common\""
   ]
  },
  {
   "cell_type": "code",
   "execution_count": 8,
   "metadata": {
    "collapsed": false
   },
   "outputs": [
    {
     "name": "stdout",
     "output_type": "stream",
     "text": [
      "Username for 'https://github.com': ^C\n"
     ]
    }
   ],
   "source": [
    "! git push origin master"
   ]
  },
  {
   "cell_type": "code",
   "execution_count": null,
   "metadata": {
    "collapsed": true
   },
   "outputs": [],
   "source": []
  }
 ],
 "metadata": {
  "anaconda-cloud": {},
  "kernelspec": {
   "display_name": "Python 2.7",
   "language": "python",
   "name": "python2.7"
  },
  "language_info": {
   "codemirror_mode": {
    "name": "ipython",
    "version": 2
   },
   "file_extension": ".py",
   "mimetype": "text/x-python",
   "name": "python",
   "nbconvert_exporter": "python",
   "pygments_lexer": "ipython2",
   "version": "2.7.12"
  }
 },
 "nbformat": 4,
 "nbformat_minor": 0
}
