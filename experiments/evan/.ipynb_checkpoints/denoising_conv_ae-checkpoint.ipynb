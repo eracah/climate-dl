{
 "cells": [
  {
   "cell_type": "code",
   "execution_count": 1,
   "metadata": {
    "collapsed": false
   },
   "outputs": [],
   "source": [
    "import sys\n",
    "import theano\n",
    "import os\n",
    "import time\n",
    "import numpy as np\n",
    "import theano.tensor as T\n",
    "from theano import function\n",
    "from theano.tensor.shared_randomstreams import RandomStreams\n",
    "import lasagne\n",
    "from lasagne.layers import InputLayer, Conv2DLayer, Pool2DLayer, DropoutLayer, \\\n",
    "Deconv2DLayer, DenseLayer, Upscale2DLayer, ReshapeLayer, \\\n",
    "get_output, get_all_params, get_all_layers,  count_params\n",
    "from lasagne.nonlinearities import rectify as relu\n",
    "from lasagne.nonlinearities import linear\n",
    "from lasagne.objectives import squared_error\n",
    "from lasagne.updates import nesterov_momentum\n",
    "import matplotlib\n",
    "import matplotlib.pyplot as plt\n",
    "import h5py\n",
    "import copy\n",
    "if __name__ == \"__main__\":\n",
    "    sys.path.insert(0,'..')\n",
    "    from common import _day_iterator\n",
    "else:\n",
    "    from ..common import _day_iterator\n",
    "\n",
    "%matplotlib inline\n",
    "\n",
    "import time\n",
    "#import util.preprocessing\n",
    "from sklearn.manifold import TSNE\n",
    "\n",
    "#enable importing of notebooks\n",
    "from nbfinder import NotebookFinder\n",
    "sys.meta_path.append(NotebookFinder())\n",
    "\n",
    "\n",
    "\n",
    "import numpy as np"
   ]
  },
  {
   "cell_type": "code",
   "execution_count": 3,
   "metadata": {
    "collapsed": false
   },
   "outputs": [],
   "source": [
    "from nolearn.lasagne import NeuralNet"
   ]
  },
  {
   "cell_type": "code",
   "execution_count": 4,
   "metadata": {
    "collapsed": true
   },
   "outputs": [],
   "source": [
    "\n",
    "\n",
    "def build_network(nkwargs):\n",
    "    \n",
    "    opt_kwargs = {k:nkwargs[k] for k in ['learning_rate','momentum']}\n",
    "\n",
    "    \n",
    "\n",
    "    network, hid_layer = build_denoising_convae(input_var, nkwargs)\n",
    "    \n",
    "    #get outputs\n",
    "    prediction = get_output(network, deterministic=False)\n",
    "    hid_layer_output = get_output(hid_layer, deterministic=True)\n",
    "    \n",
    "    #make losses\n",
    "    loss = squared_error(prediction, target_var).mean()\n",
    "    test_prediction = get_output(network, deterministic=True)\n",
    "    test_loss = squared_error(test_prediction,target_var).mean()\n",
    "    test_acc = test_loss \n",
    "    \n",
    "    #set up updates\n",
    "    params = get_all_params(network, trainable=True)\n",
    "    updates = nesterov_momentum(loss, params, **opt_kwargs)\n",
    "\n",
    "    \n",
    "    #make fns\n",
    "    train_fn = function([input_var, target_var], loss, updates=updates)\n",
    "    val_fn = function([input_var, target_var], [test_loss, test_acc])\n",
    "    pred_fn = function([input_var], test_prediction)\n",
    "    hlayer_fn = function([input_var], hid_layer_output )\n",
    "\n",
    "    return train_fn, val_fn, pred_fn, hlayer_fn, network\n",
    "\n",
    "def build_denoising_convae(input_var, nkwargs):\n",
    "    \n",
    "    corrupted_input = corrupt(input_var, nkwargs)\n",
    "    \n",
    "    hid_layer = build_encoder(corrupted_input, nkwargs)\n",
    "    \n",
    "\n",
    "    network = build_decoder(hid_layer, nkwargs)\n",
    "\n",
    "    print_layers(network)\n",
    "    \n",
    "    return network, hid_layer\n",
    "\n",
    "def build_encoder(input_var, nkwargs):\n",
    "    \n",
    "    conv_kwargs = {k: nkwargs[k] for k in ['num_filters', 'W', 'nonlinearity']}\n",
    "    dense_kwargs = {k: nkwargs[k] for k in ['num_units','W', 'nonlinearity']}\n",
    "    \n",
    "    net = InputLayer(shape=nkwargs['input_shape'], input_var=input_var)\n",
    "    net = Conv2DLayer(net, filter_size=(2,2), pad=(2,0), stride=(1,2), **conv_kwargs)\n",
    "    net = Conv2DLayer(net, filter_size=(2,2),pad=(1,0),stride=2, **conv_kwargs)\n",
    "    net = DropoutLayer(net, p=nkwargs['p'])\n",
    "    net = DenseLayer(net, **dense_kwargs)\n",
    "    \n",
    "    return net"
   ]
  },
  {
   "cell_type": "code",
   "execution_count": 5,
   "metadata": {
    "collapsed": false
   },
   "outputs": [],
   "source": [
    "def build_decoder(hid_layer, nkwargs):\n",
    "    \n",
    "    # the last shape before the fully connected layers\n",
    "    last_conv_shape = get_last_conv_shape(hid_layer)\n",
    "    \n",
    "    #set kwargs\n",
    "    dc_kwargs = {k: nkwargs[k] for k in ['num_filters', 'W', 'nonlinearity']}\n",
    "    edc_kwargs = dict(num_filters=nkwargs['input_shape'][1],W=nkwargs['W'], nonlinearity=linear)\n",
    "    fc_kwargs = {k: nkwargs[k] for k in ['W', 'nonlinearity']}\n",
    "    fc_kwargs.update({'num_units': np.prod(last_conv_shape[1:]) })\n",
    "\n",
    "    #make layers\n",
    "    net = DropoutLayer(hid_layer, p=nkwargs['p'])\n",
    "    net = DenseLayer(net, **fc_kwargs)\n",
    "    d1, d2, d3 = last_conv_shape[1:]\n",
    "    net = ReshapeLayer(net, shape= ([0], d1,d2,d3))\n",
    "    net = Deconv2DLayer(net, filter_size=(3,2), crop=(1,0), stride=(2,2), **dc_kwargs)\n",
    "    net = Deconv2DLayer(net,filter_size=(2,2), crop=(2,0), stride=(1,2),**edc_kwargs)\n",
    "    \n",
    "    return net\n",
    "\n",
    "    "
   ]
  },
  {
   "cell_type": "code",
   "execution_count": 6,
   "metadata": {
    "collapsed": false
   },
   "outputs": [],
   "source": [
    "def corrupt(input_var, nkwargs):\n",
    "    rng = np.random.RandomState(498)\n",
    "    theano_rng = RandomStreams(rng.randint(2 ** 30))\n",
    "    \n",
    "    if 'corruption' not in nkwargs:\n",
    "        corrupted_input = input_var\n",
    "    elif nkwargs['corruption'] == 'binomial':\n",
    "        corruped_input = theano_rng.binomial(size=input_var.shape, n=1,p=1 - corruption_p) * input_var\n",
    "    elif nkwargs['corruption'] in ['gaussian', 'normal']:\n",
    "        corrupted_input = theano_rng.normal(size=input_var.shape, avg=0.0, std=1.0) * input_var\n",
    "    else:\n",
    "        corrupted_input = input_var\n",
    "                    \n",
    "    return corrupted_input"
   ]
  },
  {
   "cell_type": "code",
   "execution_count": 7,
   "metadata": {
    "collapsed": true
   },
   "outputs": [],
   "source": [
    "def get_last_conv_shape(network):\n",
    "    lay = copy.deepcopy(network)\n",
    "    while type(lay) != lasagne.layers.conv.Conv2DLayer:\n",
    "        lay = lay.input_layer\n",
    "    last_conv_shape = lay.output_shape\n",
    "    return last_conv_shape"
   ]
  },
  {
   "cell_type": "code",
   "execution_count": 8,
   "metadata": {
    "collapsed": true
   },
   "outputs": [],
   "source": [
    "def print_layers(network):\n",
    "    for layer in get_all_layers(network):\n",
    "        print str(type(layer)).split(\".\")[-1][:-2] +': ' + str(layer.output_shape)\n",
    "    print count_params(layer)"
   ]
  },
  {
   "cell_type": "code",
   "execution_count": 3,
   "metadata": {
    "collapsed": false
   },
   "outputs": [
    {
     "name": "stdout",
     "output_type": "stream",
     "text": [
      "(54, 8, 16, 128, 128)\n"
     ]
    },
    {
     "ename": "AssertionError",
     "evalue": "",
     "output_type": "error",
     "traceback": [
      "\u001b[0;31m\u001b[0m",
      "\u001b[0;31mAssertionError\u001b[0mTraceback (most recent call last)",
      "\u001b[0;32m<ipython-input-3-e5f492b26107>\u001b[0m in \u001b[0;36m<module>\u001b[0;34m()\u001b[0m\n\u001b[1;32m      1\u001b[0m \u001b[0;32mfor\u001b[0m \u001b[0mx\u001b[0m \u001b[0;32min\u001b[0m \u001b[0m_day_iterator\u001b[0m\u001b[0;34m(\u001b[0m\u001b[0;34m)\u001b[0m\u001b[0;34m:\u001b[0m\u001b[0;34m\u001b[0m\u001b[0m\n\u001b[1;32m      2\u001b[0m     \u001b[0;32mprint\u001b[0m \u001b[0mx\u001b[0m\u001b[0;34m.\u001b[0m\u001b[0mshape\u001b[0m\u001b[0;34m\u001b[0m\u001b[0m\n\u001b[0;32m----> 3\u001b[0;31m     \u001b[0;32massert\u001b[0m \u001b[0mFalse\u001b[0m\u001b[0;34m\u001b[0m\u001b[0m\n\u001b[0m",
      "\u001b[0;31mAssertionError\u001b[0m: "
     ]
    }
   ],
   "source": [
    "for x in _day_iterator():\n",
    "    print x.shape\n",
    "    assert False"
   ]
  },
  {
   "cell_type": "code",
   "execution_count": 8,
   "metadata": {
    "collapsed": true
   },
   "outputs": [],
   "source": [
    "def iterate_minibatches(inputs, targets, batchsize, shuffle=False):\n",
    "    assert len(inputs) == len(targets)\n",
    "    if shuffle:\n",
    "        indices = np.arange(len(inputs))\n",
    "        np.random.shuffle(indices)\n",
    "    if batchsize > inputs.shape[0]:\n",
    "        batchsize=inputs.shape[0]\n",
    "    for start_idx in range(0,len(inputs) - batchsize + 1, batchsize):\n",
    "        if shuffle:\n",
    "            excerpt = indices[start_idx: start_idx + batchsize]\n",
    "        else:\n",
    "            excerpt = slice(start_idx, start_idx + batchsize)\n",
    "        yield inputs[excerpt], targets[excerpt]"
   ]
  },
  {
   "cell_type": "code",
   "execution_count": null,
   "metadata": {
    "collapsed": true
   },
   "outputs": [],
   "source": []
  },
  {
   "cell_type": "code",
   "execution_count": 88,
   "metadata": {
    "collapsed": false
   },
   "outputs": [
    {
     "name": "stdout",
     "output_type": "stream",
     "text": [
      "InputLayer: (None, 2, 8, 24)\n",
      "Conv2DLayer: (None, 128, 11, 12)\n",
      "Conv2DLayer: (None, 128, 6, 6)\n",
      "DropoutLayer: (None, 128, 6, 6)\n",
      "DenseLayer: (None, 1024)\n",
      "DropoutLayer: (None, 1024)\n",
      "DenseLayer: (None, 4608)\n",
      "ReshapeLayer: (None, 128, 6, 6)\n",
      "TransposedConv2DLayer: (None, 128, 11, 12)\n",
      "TransposedConv2DLayer: (None, 2, 8, 24)\n",
      "9609090\n",
      "# Neural Network with 9609090 learnable parameters\n",
      "\n",
      "## Layer information\n",
      "\n",
      "  #    name  size\n",
      "---  ------  ---------\n",
      "  0          2x8x24\n",
      "  1          128x11x12\n",
      "  2          128x6x6\n",
      "  3          128x6x6\n",
      "  4          1024\n",
      "  5          1024\n",
      "  6          4608\n",
      "  7          128x6x6\n",
      "  8          128x11x12\n",
      "  9          2x8x24\n",
      "\n",
      "  epoch    trn loss    val loss    trn/val  dur\n",
      "-------  ----------  ----------  ---------  -----\n",
      "      1     \u001b[36m0.35850\u001b[0m     \u001b[32m0.30278\u001b[0m    1.18402  0.45s\n",
      "      2     \u001b[36m0.29981\u001b[0m     \u001b[32m0.23944\u001b[0m    1.25212  0.44s\n",
      "      3     \u001b[36m0.23645\u001b[0m     \u001b[32m0.18319\u001b[0m    1.29071  0.44s\n",
      "      4     \u001b[36m0.18029\u001b[0m     \u001b[32m0.14093\u001b[0m    1.27930  0.45s\n",
      "      5     \u001b[36m0.13811\u001b[0m     \u001b[32m0.11512\u001b[0m    1.19972  0.44s\n",
      "      6     \u001b[36m0.11237\u001b[0m     \u001b[32m0.10456\u001b[0m    1.07470  0.44s\n",
      "      7     \u001b[36m0.10182\u001b[0m     0.10496    0.97004  0.45s\n",
      "      8     0.10216     0.11060    0.92369  0.45s\n",
      "      9     0.10769     0.11625    0.92642  0.44s\n",
      "     10     0.11324     0.11870    0.95399  0.44s\n",
      "     11     0.11556     0.11703    0.98746  0.44s\n",
      "     12     0.11379     0.11214    1.01476  0.44s\n",
      "     13     0.10884     0.10575    1.02924  0.44s\n",
      "     14     0.10245     \u001b[32m0.09959\u001b[0m    1.02876  0.44s\n",
      "     15     \u001b[36m0.09631\u001b[0m     \u001b[32m0.09479\u001b[0m    1.01599  0.45s\n",
      "     16     \u001b[36m0.09153\u001b[0m     \u001b[32m0.09177\u001b[0m    0.99739  0.45s\n",
      "     17     \u001b[36m0.08854\u001b[0m     \u001b[32m0.09039\u001b[0m    0.97960  0.45s\n",
      "     18     \u001b[36m0.08719\u001b[0m     \u001b[32m0.09017\u001b[0m    0.96696  0.44s\n",
      "     19     \u001b[36m0.08701\u001b[0m     0.09058    0.96052  0.44s\n",
      "     20     0.08743     0.09114    0.95927  0.45s\n"
     ]
    },
    {
     "data": {
      "text/plain": [
       "NeuralNet(X_tensor_type=None,\n",
       "     batch_iterator_test=<nolearn.lasagne.base.BatchIterator object at 0x7ff135f74990>,\n",
       "     batch_iterator_train=<nolearn.lasagne.base.BatchIterator object at 0x7ff135f74890>,\n",
       "     check_input=True, custom_scores=None,\n",
       "     layers=[<lasagne.layers.input.InputLayer object at 0x7ff11407ac90>, <lasagne.layers.conv.Conv2DLayer object at 0x7ff1211c3690>, <lasagne.layers.conv.Conv2DLayer object at 0x7ff1211c38d0>, <lasagne.layers.noise.DropoutLayer object at 0x7ff1211c3790>, <lasagne.layers.dense.DenseLayer object at 0x7ff12...yer object at 0x7ff12114be10>, <lasagne.layers.conv.TransposedConv2DLayer object at 0x7ff12114bf50>],\n",
       "     loss=None, max_epochs=5, more_params={},\n",
       "     objective=<function objective at 0x7ff135f78f50>,\n",
       "     objective_loss_function=<function squared_error at 0x7ff136f98668>,\n",
       "     on_batch_finished=[],\n",
       "     on_epoch_finished=[<nolearn.lasagne.handlers.PrintLog instance at 0x7ff12243b908>],\n",
       "     on_training_finished=[],\n",
       "     on_training_started=[<nolearn.lasagne.handlers.PrintLayerInfo instance at 0x7ff12243ba28>],\n",
       "     regression=True, scores_train=[], scores_valid=[],\n",
       "     train_split=<nolearn.lasagne.base.TrainSplit object at 0x7ff135f749d0>,\n",
       "     update=<function nesterov_momentum at 0x7ff136f98ed8>,\n",
       "     update_learning_rate=0.01, update_momentum=0.9,\n",
       "     use_label_encoder=False, verbose=1,\n",
       "     y_tensor_type=TensorType(float64, 4D))"
      ]
     },
     "execution_count": 88,
     "metadata": {},
     "output_type": "execute_result"
    }
   ],
   "source": [
    "if __name__ == \"__main__\":\n",
    "    dnkwargs = dict(         learning_rate = 0.01,\n",
    "                              input_shape=(None,2,8,24),\n",
    "                              momentum = 0.9,\n",
    "                              num_filters=128,\n",
    "                              num_units=1024,\n",
    "                              nonlinearity=relu,\n",
    "                              W=lasagne.init.HeNormal(),\n",
    "                              p=0.,\n",
    "                              corruption_p = 0.3,\n",
    "                              load=False, \n",
    "                              load_path=None,)\n",
    "    \n",
    "    train_fn, val_fn, pred_fn, hlayer_fn, network = build_network(dnkwargs)\n",
    "    \n",
    "    \n",
    "\n",
    "input_var = T.tensor4('input_var')\n",
    "target_var = T.tensor4('target_var')\n",
    "\n",
    "ae = NeuralNet(\n",
    "       layers=get_all_layers(network), \n",
    "       max_epochs=5, \n",
    "       update=nesterov_momentum,\n",
    "       update_learning_rate=0.01, \n",
    "       update_momentum=0.9,\n",
    "       objective_loss_function=squared_error,\n",
    "       regression=True, \n",
    "       verbose=1, \n",
    "       y_tensor_type=target_var.type)\n",
    "        \n",
    "\n",
    "X = np.random.random((100,2,8,24))\n",
    "hinit = hlayer_fn(X)\n",
    "ae.fit(X,X, epochs=20)"
   ]
  },
  {
   "cell_type": "code",
   "execution_count": 89,
   "metadata": {
    "collapsed": false
   },
   "outputs": [],
   "source": [
    "hfinal = hlayer_fn(X)"
   ]
  },
  {
   "cell_type": "code",
   "execution_count": 92,
   "metadata": {
    "collapsed": false
   },
   "outputs": [],
   "source": [
    "ts = TSNE().fit_transform(hfinal)"
   ]
  },
  {
   "cell_type": "code",
   "execution_count": 93,
   "metadata": {
    "collapsed": false
   },
   "outputs": [
    {
     "data": {
      "text/plain": [
       "<matplotlib.collections.PathCollection at 0x7ff126705850>"
      ]
     },
     "execution_count": 93,
     "metadata": {},
     "output_type": "execute_result"
    },
    {
     "data": {
      "image/png": "[encoded data removed]",
      "text/plain": [
       "<matplotlib.figure.Figure at 0x7ff1165b9310>"
      ]
     },
     "metadata": {},
     "output_type": "display_data"
    }
   ],
   "source": [
    "plt.scatter(ts[:,0], ts[:,1])"
   ]
  },
  {
   "cell_type": "code",
   "execution_count": 12,
   "metadata": {
    "collapsed": true
   },
   "outputs": [],
   "source": [
    "import itertools"
   ]
  },
  {
   "cell_type": "code",
   "execution_count": null,
   "metadata": {
    "collapsed": true
   },
   "outputs": [],
   "source": [
    "itertools.product"
   ]
  }
 ],
 "metadata": {
  "kernelspec": {
   "display_name": "deeplearning",
   "language": "python",
   "name": "deeplearning"
  },
  "language_info": {
   "codemirror_mode": {
    "name": "ipython",
    "version": 2
   },
   "file_extension": ".py",
   "mimetype": "text/x-python",
   "name": "python",
   "nbconvert_exporter": "python",
   "pygments_lexer": "ipython2",
   "version": "2.7.12"
  }
 },
 "nbformat": 4,
 "nbformat_minor": 0
}
