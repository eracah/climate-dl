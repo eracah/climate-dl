{
 "cells": [
  {
   "cell_type": "code",
   "execution_count": 1,
   "metadata": {
    "collapsed": false
   },
   "outputs": [],
   "source": [
    "import sys\n",
    "import time\n",
    "import numpy as np\n",
    "if __name__ == \"__main__\":\n",
    "    sys.path.insert(0,'..')\n",
    "    from common import *\n",
    "else:\n",
    "    from ..common import *\n",
    "from lasagne.layers import *\n",
    "import theano\n",
    "import lasagne"
   ]
  },
  {
   "cell_type": "code",
   "execution_count": 2,
   "metadata": {
    "collapsed": false
   },
   "outputs": [
    {
     "name": "stdout",
     "output_type": "stream",
     "text": [
      "<lasagne.layers.input.InputLayer object at 0x2b65a90a2850> (None, 16, 96, 96)\n",
      "<lasagne.layers.noise.GaussianNoiseLayer object at 0x2b65a90c73d0> (None, 16, 96, 96)\n",
      "<lasagne.layers.conv.Conv2DLayer object at 0x2b65a90c7490> (None, 128, 46, 46)\n",
      "<lasagne.layers.conv.Conv2DLayer object at 0x2b65a90e69d0> (None, 3, 46, 46)\n",
      "<lasagne.layers.merge.ConcatLayer object at 0x2b65a90e6b10> (None, 131, 46, 46)\n",
      "<lasagne.layers.conv.Conv2DLayer object at 0x2b65a65b9410> (None, 256, 21, 21)\n",
      "<lasagne.layers.conv.Conv2DLayer object at 0x2b65a90e6fd0> (None, 3, 21, 21)\n",
      "<lasagne.layers.merge.ConcatLayer object at 0x2b65a9dc7150> (None, 259, 21, 21)\n",
      "<lasagne.layers.conv.Conv2DLayer object at 0x2b65a90e6e50> (None, 512, 9, 9)\n",
      "<lasagne.layers.conv.Conv2DLayer object at 0x2b65a9dc7550> (None, 3, 9, 9)\n",
      "<lasagne.layers.merge.ConcatLayer object at 0x2b65a90a2590> (None, 515, 9, 9)\n",
      "<lasagne.layers.dense.DenseLayer object at 0x2b65a90a2350> (None, 512)\n",
      "<lasagne.layers.special.InverseLayer object at 0x2b65a9dc7810> (None, 515, 9, 9)\n",
      "<lasagne.layers.shape.SliceLayer object at 0x2b65a9dc7a10> (None, 512, 9, 9)\n",
      "<lasagne.layers.special.InverseLayer object at 0x2b65a9dc79d0> (None, 259, 21, 21)\n",
      "<lasagne.layers.shape.SliceLayer object at 0x2b65a9dc7a90> (None, 256, 21, 21)\n",
      "<lasagne.layers.special.InverseLayer object at 0x2b65a9dc7a50> (None, 131, 46, 46)\n",
      "<lasagne.layers.shape.SliceLayer object at 0x2b65a9dc7b10> (None, 128, 46, 46)\n",
      "<lasagne.layers.special.InverseLayer object at 0x2b65a9dc7ad0> (None, 16, 96, 96)\n",
      "25588489\n"
     ]
    },
    {
     "name": "stderr",
     "output_type": "stream",
     "text": [
      "train size: 6\n",
      "<lasagne.layers.input.InputLayer object at 0x2b65a90a2850> (None, 16, 96, 96)\n",
      "<lasagne.layers.noise.GaussianNoiseLayer object at 0x2b65a90c73d0> (None, 16, 96, 96)\n",
      "<lasagne.layers.conv.Conv2DLayer object at 0x2b65a90c7490> (None, 128, 46, 46)\n",
      "<lasagne.layers.conv.Conv2DLayer object at 0x2b65a90e69d0> (None, 3, 46, 46)\n",
      "<lasagne.layers.merge.ConcatLayer object at 0x2b65a90e6b10> (None, 131, 46, 46)\n",
      "<lasagne.layers.conv.Conv2DLayer object at 0x2b65a65b9410> (None, 256, 21, 21)\n",
      "<lasagne.layers.conv.Conv2DLayer object at 0x2b65a90e6fd0> (None, 3, 21, 21)\n",
      "<lasagne.layers.merge.ConcatLayer object at 0x2b65a9dc7150> (None, 259, 21, 21)\n",
      "<lasagne.layers.conv.Conv2DLayer object at 0x2b65a90e6e50> (None, 512, 9, 9)\n",
      "<lasagne.layers.conv.Conv2DLayer object at 0x2b65a9dc7550> (None, 3, 9, 9)\n",
      "<lasagne.layers.merge.ConcatLayer object at 0x2b65a90a2590> (None, 515, 9, 9)\n",
      "<lasagne.layers.dense.DenseLayer object at 0x2b65a90a2350> (None, 512)\n",
      "<lasagne.layers.special.InverseLayer object at 0x2b65a9dc7810> (None, 515, 9, 9)\n",
      "<lasagne.layers.shape.SliceLayer object at 0x2b65a9dc7a10> (None, 512, 9, 9)\n",
      "<lasagne.layers.special.InverseLayer object at 0x2b65a9dc79d0> (None, 259, 21, 21)\n",
      "<lasagne.layers.shape.SliceLayer object at 0x2b65a9dc7a90> (None, 256, 21, 21)\n",
      "<lasagne.layers.special.InverseLayer object at 0x2b65a9dc7a50> (None, 131, 46, 46)\n",
      "<lasagne.layers.shape.SliceLayer object at 0x2b65a9dc7b10> (None, 128, 46, 46)\n",
      "<lasagne.layers.special.InverseLayer object at 0x2b65a9dc7ad0> (None, 16, 96, 96)\n",
      "epoch 1 of 5000 \n",
      " time: 7.008759 \n",
      " train loss:  0.289 \n",
      " val loss:  0.285\n",
      "epoch 2 of 5000 \n",
      " time: 7.703157 \n",
      " train loss:  0.289 \n",
      " val loss:  0.285\n",
      "epoch 3 of 5000 \n",
      " time: 7.485222 \n",
      " train loss:  0.289 \n",
      " val loss:  0.285\n",
      "epoch 4 of 5000 \n",
      " time: 7.105354 \n",
      " train loss:  0.289 \n",
      " val loss:  0.285\n",
      "epoch 5 of 5000 \n",
      " time: 8.445080 \n",
      " train loss:  0.289 \n",
      " val loss:  0.285\n",
      "epoch 6 of 5000 \n",
      " time: 6.200002 \n",
      " train loss:  0.289 \n",
      " val loss:  0.285\n",
      "epoch 7 of 5000 \n",
      " time: 6.277588 \n",
      " train loss:  0.289 \n",
      " val loss:  0.285\n"
     ]
    },
    {
     "name": "stdout",
     "output_type": "stream",
     "text": [
      "Traceback (most recent call last):\n",
      "  File \"/global/common/cori/software/python/2.7-anaconda/envs/deeplearning/lib/python2.7/site-packages/IPython/core/ultratb.py\", line 1132, in get_records\n",
      "    return _fixed_getinnerframes(etb, number_of_lines_of_context, tb_offset)\n",
      "  File \"/global/common/cori/software/python/2.7-anaconda/envs/deeplearning/lib/python2.7/site-packages/IPython/core/ultratb.py\", line 313, in wrapped\n",
      "    return f(*args, **kwargs)\n",
      "  File \"/global/common/cori/software/python/2.7-anaconda/envs/deeplearning/lib/python2.7/site-packages/IPython/core/ultratb.py\", line 358, in _fixed_getinnerframes\n",
      "    records = fix_frame_records_filenames(inspect.getinnerframes(etb, context))\n",
      "  File \"/global/common/cori/software/python/2.7-anaconda/envs/deeplearning/lib/python2.7/inspect.py\", line 1049, in getinnerframes\n",
      "    framelist.append((tb.tb_frame,) + getframeinfo(tb, context))\n",
      "  File \"/global/common/cori/software/python/2.7-anaconda/envs/deeplearning/lib/python2.7/inspect.py\", line 1013, in getframeinfo\n",
      "    lines, lnum = findsource(frame)\n",
      "  File \"/global/common/cori/software/python/2.7-anaconda/envs/deeplearning/lib/python2.7/site-packages/IPython/core/ultratb.py\", line 182, in findsource\n",
      "    lines = linecache.getlines(file, globals_dict)\n",
      "  File \"/global/common/cori/software/python/2.7-anaconda/envs/deeplearning/lib/python2.7/linecache.py\", line 41, in getlines\n",
      "    return updatecache(filename, module_globals)\n",
      "  File \"/global/common/cori/software/python/2.7-anaconda/envs/deeplearning/lib/python2.7/linecache.py\", line 132, in updatecache\n",
      "    lines = fp.readlines()\n",
      "KeyboardInterrupt\n"
     ]
    },
    {
     "ename": "IndexError",
     "evalue": "string index out of range",
     "output_type": "error",
     "traceback": [
      "\u001b[0;31m\u001b[0m",
      "\u001b[0;31mIndexError\u001b[0mTraceback (most recent call last)",
      "\u001b[0;32m/global/common/cori/software/python/2.7-anaconda/envs/deeplearning/lib/python2.7/site-packages/IPython/core/interactiveshell.pyc\u001b[0m in \u001b[0;36mrun_code\u001b[0;34m(self, code_obj, result)\u001b[0m\n\u001b[1;32m   2884\u001b[0m             \u001b[0;32mif\u001b[0m \u001b[0mresult\u001b[0m \u001b[0;32mis\u001b[0m \u001b[0;32mnot\u001b[0m \u001b[0mNone\u001b[0m\u001b[0;34m:\u001b[0m\u001b[0;34m\u001b[0m\u001b[0m\n\u001b[1;32m   2885\u001b[0m                 \u001b[0mresult\u001b[0m\u001b[0;34m.\u001b[0m\u001b[0merror_in_exec\u001b[0m \u001b[0;34m=\u001b[0m \u001b[0msys\u001b[0m\u001b[0;34m.\u001b[0m\u001b[0mexc_info\u001b[0m\u001b[0;34m(\u001b[0m\u001b[0;34m)\u001b[0m\u001b[0;34m[\u001b[0m\u001b[0;36m1\u001b[0m\u001b[0;34m]\u001b[0m\u001b[0;34m\u001b[0m\u001b[0m\n\u001b[0;32m-> 2886\u001b[0;31m             \u001b[0mself\u001b[0m\u001b[0;34m.\u001b[0m\u001b[0mshowtraceback\u001b[0m\u001b[0;34m(\u001b[0m\u001b[0;34m)\u001b[0m\u001b[0;34m\u001b[0m\u001b[0m\n\u001b[0m\u001b[1;32m   2887\u001b[0m         \u001b[0;32melse\u001b[0m\u001b[0;34m:\u001b[0m\u001b[0;34m\u001b[0m\u001b[0m\n\u001b[1;32m   2888\u001b[0m             \u001b[0moutflag\u001b[0m \u001b[0;34m=\u001b[0m \u001b[0;36m0\u001b[0m\u001b[0;34m\u001b[0m\u001b[0m\n",
      "\u001b[0;32m/global/common/cori/software/python/2.7-anaconda/envs/deeplearning/lib/python2.7/site-packages/IPython/core/interactiveshell.pyc\u001b[0m in \u001b[0;36mshowtraceback\u001b[0;34m(self, exc_tuple, filename, tb_offset, exception_only)\u001b[0m\n\u001b[1;32m   1810\u001b[0m                     \u001b[0;32mexcept\u001b[0m \u001b[0mException\u001b[0m\u001b[0;34m:\u001b[0m\u001b[0;34m\u001b[0m\u001b[0m\n\u001b[1;32m   1811\u001b[0m                         stb = self.InteractiveTB.structured_traceback(etype,\n\u001b[0;32m-> 1812\u001b[0;31m                                             value, tb, tb_offset=tb_offset)\n\u001b[0m\u001b[1;32m   1813\u001b[0m \u001b[0;34m\u001b[0m\u001b[0m\n\u001b[1;32m   1814\u001b[0m                     \u001b[0mself\u001b[0m\u001b[0;34m.\u001b[0m\u001b[0m_showtraceback\u001b[0m\u001b[0;34m(\u001b[0m\u001b[0metype\u001b[0m\u001b[0;34m,\u001b[0m \u001b[0mvalue\u001b[0m\u001b[0;34m,\u001b[0m \u001b[0mstb\u001b[0m\u001b[0;34m)\u001b[0m\u001b[0;34m\u001b[0m\u001b[0m\n",
      "\u001b[0;32m/global/common/cori/software/python/2.7-anaconda/envs/deeplearning/lib/python2.7/site-packages/IPython/core/ultratb.pyc\u001b[0m in \u001b[0;36mstructured_traceback\u001b[0;34m(self, etype, value, tb, tb_offset, number_of_lines_of_context)\u001b[0m\n\u001b[1;32m   1404\u001b[0m         \u001b[0mself\u001b[0m\u001b[0;34m.\u001b[0m\u001b[0mtb\u001b[0m \u001b[0;34m=\u001b[0m \u001b[0mtb\u001b[0m\u001b[0;34m\u001b[0m\u001b[0m\n\u001b[1;32m   1405\u001b[0m         return FormattedTB.structured_traceback(\n\u001b[0;32m-> 1406\u001b[0;31m             self, etype, value, tb, tb_offset, number_of_lines_of_context)\n\u001b[0m\u001b[1;32m   1407\u001b[0m \u001b[0;34m\u001b[0m\u001b[0m\n\u001b[1;32m   1408\u001b[0m \u001b[0;34m\u001b[0m\u001b[0m\n",
      "\u001b[0;32m/global/common/cori/software/python/2.7-anaconda/envs/deeplearning/lib/python2.7/site-packages/IPython/core/ultratb.pyc\u001b[0m in \u001b[0;36mstructured_traceback\u001b[0;34m(self, etype, value, tb, tb_offset, number_of_lines_of_context)\u001b[0m\n\u001b[1;32m   1312\u001b[0m             \u001b[0;31m# Verbose modes need a full traceback\u001b[0m\u001b[0;34m\u001b[0m\u001b[0;34m\u001b[0m\u001b[0m\n\u001b[1;32m   1313\u001b[0m             return VerboseTB.structured_traceback(\n\u001b[0;32m-> 1314\u001b[0;31m                 \u001b[0mself\u001b[0m\u001b[0;34m,\u001b[0m \u001b[0metype\u001b[0m\u001b[0;34m,\u001b[0m \u001b[0mvalue\u001b[0m\u001b[0;34m,\u001b[0m \u001b[0mtb\u001b[0m\u001b[0;34m,\u001b[0m \u001b[0mtb_offset\u001b[0m\u001b[0;34m,\u001b[0m \u001b[0mnumber_of_lines_of_context\u001b[0m\u001b[0;34m\u001b[0m\u001b[0m\n\u001b[0m\u001b[1;32m   1315\u001b[0m             )\n\u001b[1;32m   1316\u001b[0m         \u001b[0;32melse\u001b[0m\u001b[0;34m:\u001b[0m\u001b[0;34m\u001b[0m\u001b[0m\n",
      "\u001b[0;32m/global/common/cori/software/python/2.7-anaconda/envs/deeplearning/lib/python2.7/site-packages/IPython/core/ultratb.pyc\u001b[0m in \u001b[0;36mstructured_traceback\u001b[0;34m(self, etype, evalue, etb, tb_offset, number_of_lines_of_context)\u001b[0m\n\u001b[1;32m   1196\u001b[0m                 \u001b[0mstructured_traceback_parts\u001b[0m \u001b[0;34m+=\u001b[0m \u001b[0mformatted_exception\u001b[0m\u001b[0;34m\u001b[0m\u001b[0m\n\u001b[1;32m   1197\u001b[0m         \u001b[0;32melse\u001b[0m\u001b[0;34m:\u001b[0m\u001b[0;34m\u001b[0m\u001b[0m\n\u001b[0;32m-> 1198\u001b[0;31m             \u001b[0mstructured_traceback_parts\u001b[0m \u001b[0;34m+=\u001b[0m \u001b[0mformatted_exception\u001b[0m\u001b[0;34m[\u001b[0m\u001b[0;36m0\u001b[0m\u001b[0;34m]\u001b[0m\u001b[0;34m\u001b[0m\u001b[0m\n\u001b[0m\u001b[1;32m   1199\u001b[0m \u001b[0;34m\u001b[0m\u001b[0m\n\u001b[1;32m   1200\u001b[0m         \u001b[0;32mreturn\u001b[0m \u001b[0mstructured_traceback_parts\u001b[0m\u001b[0;34m\u001b[0m\u001b[0m\n",
      "\u001b[0;31mIndexError\u001b[0m: string index out of range"
     ]
    }
   ],
   "source": [
    "import argparse\n",
    "if any([\"jupyter\" in arg for arg in sys.argv]):\n",
    "    sys.argv=sys.argv[:1]\n",
    "\n",
    "\n",
    "parser = argparse.ArgumentParser()\n",
    "\n",
    "parser.add_argument('-d', '--train_days', default=1, type=int)\n",
    "parser.add_argument('--bottleneck', default=512, type=int)\n",
    "parser.add_argument('-s', '--sigma', default=0.5, type=float)\n",
    "parser.add_argument( '--batch_size', default=128, type=int)\n",
    "parser.add_argument( '--num_epochs', default=5000, type=int)\n",
    "parser.add_argument( '--learn_rate', default=0.1, type=float)\n",
    "parser.add_argument( '--im_size', default=96, type=int)\n",
    "parser.add_argument( '--data_dir', default=\"/project/projectdirs/dasrepo/gordon_bell/climate/data/big_images/\")\n",
    "pargs = parser.parse_args()\n",
    "\n",
    "args = { \"learning_rate\": 0.01, \"sigma\":pargs.sigma, \"bottleneck\":pargs.bottleneck, 'mode':'2d', 'L':1, 'k':3 }\n",
    "train_kwargs = dict(\n",
    "                    data_dir=pargs.data_dir,\n",
    "                    training_days=[1, pargs.train_days], \n",
    "                    validation_days=[364,364], \n",
    "                    debug=False,\n",
    "                    num_epochs=pargs.num_epochs,\n",
    "                    img_size=pargs.im_size,\n",
    "                    dataset=\"climate\",\n",
    "                    step_size=512,\n",
    "                    time_steps=1,\n",
    "                    batch_size=pargs.batch_size\n",
    "                    )\n",
    "\n",
    "total_train_days = train_kwargs['training_days'][1] - train_kwargs['training_days'][0]  + 1\n",
    "exp_dirname = '_'.join(map(str,args.values())) + '_' +  str(total_train_days)\n",
    "net_cfg = get_net(climate_test_dense, args)\n",
    "train(net_cfg, \n",
    "      out_folder=\"output/\" +exp_dirname, model_folder=\"output/\" +exp_dirname, **train_kwargs)"
   ]
  },
  {
   "cell_type": "code",
   "execution_count": null,
   "metadata": {
    "collapsed": true
   },
   "outputs": [],
   "source": []
  }
 ],
 "metadata": {
  "anaconda-cloud": {},
  "kernelspec": {
   "display_name": "deeplearning",
   "language": "python",
   "name": "deeplearning"
  },
  "language_info": {
   "codemirror_mode": {
    "name": "ipython",
    "version": 2
   },
   "file_extension": ".py",
   "mimetype": "text/x-python",
   "name": "python",
   "nbconvert_exporter": "python",
   "pygments_lexer": "ipython2",
   "version": "2.7.12"
  }
 },
 "nbformat": 4,
 "nbformat_minor": 0
}
