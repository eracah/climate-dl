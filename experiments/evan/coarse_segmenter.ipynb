{
 "cells": [
  {
   "cell_type": "code",
   "execution_count": 8,
   "metadata": {
    "collapsed": true
   },
   "outputs": [],
   "source": [
    "from lasagne.layers import *  \n",
    "from lasagne.objectives import *"
   ]
  },
  {
   "cell_type": "code",
   "execution_count": 4,
   "metadata": {
    "collapsed": false
   },
   "outputs": [
    {
     "ename": "IndentationError",
     "evalue": "unexpected indent (<ipython-input-4-e56196b95dc3>, line 4)",
     "output_type": "error",
     "traceback": [
      "\u001b[0;36m  File \u001b[0;32m\"<ipython-input-4-e56196b95dc3>\"\u001b[0;36m, line \u001b[0;32m4\u001b[0m\n\u001b[0;31m    net = InputLayer(gt_mask, shape=tuple(4*[None]))\u001b[0m\n\u001b[0m    ^\u001b[0m\n\u001b[0;31mIndentationError\u001b[0m\u001b[0;31m:\u001b[0m unexpected indent\n"
     ]
    }
   ],
   "source": [
    "#FCN used softmax w/ xent, but they also tried sigmoid w/ xent and \n",
    "# did just pretty well\n",
    "def downsample_mask(gt_mask, num_decimation_layers):\n",
    "    '''gt_mask (Theano Tensor4) -> 768 by 1162 by num_classes\n",
    "       num_decimation_layer (int) -> number of stride 2 or max pool layers'''\n",
    "        net = InputLayer(gt_mask, shape=tuple(4*[None]))\n",
    "        for i in range(num_decimation_layers):\n",
    "            net = MaxPool2DLayer(net)\n",
    "        return get_output(net, gt_mask)\n",
    "            \n",
    "\n",
    "def get_classwise_scores(last_enc_layer, num_classes):\n",
    "    '''last_enc_layer  (Theano Tensor4) -> last encoder layer\n",
    "       num_classes (int) -> should be equal to depth of gt_mask'''\n",
    "    \n",
    "    #get hyperplanes for each class\n",
    "    net = Conv2DLayer(last_enc_layer,\n",
    "                      num_filters=num_classes,\n",
    "                      filter_size=1,\n",
    "                      nonlinearity=)\n",
    "    return get_output(net)\n",
    "    \n",
    "    \n",
    "def calc_seg_loss(gt_coarse_mask, class_scores):\n",
    "    '''gt_coarse_mask (Theano Tensor4) -> 5 by 11 by num_classes or something'''\n",
    "    '''class_scores (Theano Tensor4) -> same as above'''\n",
    "    \n",
    "    pass"
   ]
  },
  {
   "cell_type": "code",
   "execution_count": 6,
   "metadata": {
    "collapsed": false
   },
   "outputs": [],
   "source": [
    "Conv2DLayer?"
   ]
  },
  {
   "cell_type": "code",
   "execution_count": 7,
   "metadata": {
    "collapsed": true
   },
   "outputs": [],
   "source": [
    "get_output?"
   ]
  },
  {
   "cell_type": "code",
   "execution_count": null,
   "metadata": {
    "collapsed": true
   },
   "outputs": [],
   "source": []
  }
 ],
 "metadata": {
  "kernelspec": {
   "display_name": "Python [Root]",
   "language": "python",
   "name": "Python [Root]"
  },
  "language_info": {
   "codemirror_mode": {
    "name": "ipython",
    "version": 2
   },
   "file_extension": ".py",
   "mimetype": "text/x-python",
   "name": "python",
   "nbconvert_exporter": "python",
   "pygments_lexer": "ipython2",
   "version": "2.7.12"
  }
 },
 "nbformat": 4,
 "nbformat_minor": 0
}
