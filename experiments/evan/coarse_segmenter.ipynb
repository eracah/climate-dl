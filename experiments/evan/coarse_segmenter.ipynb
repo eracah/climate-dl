{
 "cells": [
  {
   "cell_type": "code",
   "execution_count": 15,
   "metadata": {
    "collapsed": false
   },
   "outputs": [],
   "source": [
    "from lasagne.layers import *  \n",
    "from lasagne.objectives import *\n",
    "from lasagne.nonlinearities import *\n",
    "import numpy as np\n",
    "import theano"
   ]
  },
  {
   "cell_type": "code",
   "execution_count": 16,
   "metadata": {
    "collapsed": false
   },
   "outputs": [],
   "source": [
    "#FCN used softmax w/ xent, but they also tried sigmoid w/ xent and \n",
    "# did pretty well\n",
    "def downsample_mask(mask_t, num_decimation_layers):\n",
    "    '''gt_mask (Theano Tensor4) -> 768 by 1162 by num_classes\n",
    "    num_decimation_layer (int) -> number of stride 2 or max pool layers'''\n",
    "    net = InputLayer(input_var=mask_t, shape=(None,1,768,1152))\n",
    "    for i in range(num_decimation_layers):\n",
    "        net = MaxPool2DLayer(net,pool_size=5,stride=2)\n",
    "    return get_output(net)\n",
    "            \n",
    "\n",
    "def get_classwise_scores(last_enc_layer, num_classes):\n",
    "    '''last_enc_layer  (Theano Tensor4) -> last encoder layer\n",
    "    num_classes (int) -> should be equal to depth of gt_mask'''\n",
    "    \n",
    "    #get hyperplanes for each class\n",
    "    net = Conv2DLayer(last_enc_layer,\n",
    "                      num_filters=num_classes,\n",
    "                      filter_size=1,\n",
    "                      nonlinearity=sigmoid)\n",
    "    return get_output(net)\n",
    "    \n",
    "    \n",
    "def calc_seg_loss(gt_coarse_mask, class_scores):\n",
    "    '''gt_coarse_mask (Theano Tensor4) -> 5 by 11 by num_classes or something'''\n",
    "    '''class_scores (Theano Tensor4) -> same as above'''\n",
    "    loss = binary_crossentropy(class_scores, gt_coarse_mask).mean()\n",
    "    return loss"
   ]
  },
  {
   "cell_type": "code",
   "execution_count": 5,
   "metadata": {
    "collapsed": true
   },
   "outputs": [],
   "source": [
    "def make_scores(num=10):\n",
    "    return np.random.random((num,1,5,11)).astype('float32')\n",
    "    "
   ]
  },
  {
   "cell_type": "code",
   "execution_count": 6,
   "metadata": {
    "collapsed": false
   },
   "outputs": [],
   "source": [
    "def make_mask(num=10):\n",
    "    mask = np.random.binomial(1, 0.1, (num, 1, 768, 1152))\n",
    "    return mask.astype('float32')"
   ]
  },
  {
   "cell_type": "code",
   "execution_count": 7,
   "metadata": {
    "collapsed": false
   },
   "outputs": [],
   "source": [
    "mask = make_mask()"
   ]
  },
  {
   "cell_type": "code",
   "execution_count": 8,
   "metadata": {
    "collapsed": true
   },
   "outputs": [],
   "source": [
    "mask_t = theano.tensor.tensor4('m')"
   ]
  },
  {
   "cell_type": "code",
   "execution_count": 9,
   "metadata": {
    "collapsed": false
   },
   "outputs": [],
   "source": [
    "x = theano.tensor.tensor4('x')"
   ]
  },
  {
   "cell_type": "code",
   "execution_count": 10,
   "metadata": {
    "collapsed": false
   },
   "outputs": [],
   "source": [
    "net = InputLayer(input_var=x, shape=(10,10, 18, 30))\n",
    "net = Conv2DLayer(net, num_filters=1200, stride=2, filter_size=3, pad=1)"
   ]
  },
  {
   "cell_type": "code",
   "execution_count": 11,
   "metadata": {
    "collapsed": false
   },
   "outputs": [],
   "source": [
    "class_scores = get_classwise_scores(net, 1)"
   ]
  },
  {
   "cell_type": "code",
   "execution_count": 12,
   "metadata": {
    "collapsed": false
   },
   "outputs": [],
   "source": [
    "new_mask = downsample_mask(mask_t, 6)"
   ]
  },
  {
   "cell_type": "code",
   "execution_count": 13,
   "metadata": {
    "collapsed": false
   },
   "outputs": [],
   "source": [
    "loss = calc_seg_loss(new_mask, class_scores)"
   ]
  },
  {
   "cell_type": "code",
   "execution_count": 14,
   "metadata": {
    "collapsed": false
   },
   "outputs": [
    {
     "data": {
      "text/plain": [
       "array(0.6853165254247334)"
      ]
     },
     "execution_count": 14,
     "metadata": {},
     "output_type": "execute_result"
    }
   ],
   "source": [
    "loss.eval({mask_t: mask, x:np.random.random(((10, 10, 18, 30))).astype('float32')})"
   ]
  },
  {
   "cell_type": "code",
   "execution_count": null,
   "metadata": {
    "collapsed": false
   },
   "outputs": [],
   "source": []
  },
  {
   "cell_type": "code",
   "execution_count": null,
   "metadata": {
    "collapsed": true
   },
   "outputs": [],
   "source": []
  }
 ],
 "metadata": {
  "anaconda-cloud": {},
  "kernelspec": {
   "display_name": "deeplearning",
   "language": "python",
   "name": "deeplearning"
  },
  "language_info": {
   "codemirror_mode": {
    "name": "ipython",
    "version": 2
   },
   "file_extension": ".py",
   "mimetype": "text/x-python",
   "name": "python",
   "nbconvert_exporter": "python",
   "pygments_lexer": "ipython2",
   "version": "2.7.12"
  }
 },
 "nbformat": 4,
 "nbformat_minor": 0
}
