{
 "cells": [
  {
   "cell_type": "code",
   "execution_count": 126,
   "metadata": {
    "collapsed": false
   },
   "outputs": [
    {
     "data": {
      "text/plain": [
       "<module 'architectures' from '../architectures.pyc'>"
      ]
     },
     "execution_count": 126,
     "metadata": {},
     "output_type": "execute_result"
    }
   ],
   "source": [
    "import sys\n",
    "sys.path.append(\"../../common/\")\n",
    "sys.path.append(\"../../\")\n",
    "import helper_fxns\n",
    "reload(helper_fxns)\n",
    "sys.path.append(\"..\")\n",
    "import architectures\n",
    "reload(architectures)\n"
   ]
  },
  {
   "cell_type": "code",
   "execution_count": 52,
   "metadata": {
    "collapsed": true
   },
   "outputs": [],
   "source": [
    "import theano\n",
    "from theano import tensor as T\n",
    "import lasagne\n",
    "from lasagne.layers import *\n",
    "from lasagne.nonlinearities import *"
   ]
  },
  {
   "cell_type": "code",
   "execution_count": 39,
   "metadata": {
    "collapsed": false
   },
   "outputs": [],
   "source": [
    "def net_dense(args):\n",
    "    conv_kwargs = dict(num_filters=args['k'], filter_size=3, pad=1, nonlinearity=rectify, W=lasagne.init.HeNormal())\n",
    "    conv = InputLayer((None,16,96,96))\n",
    "    conv = Conv2DLayer(conv, num_filters=128-(args[\"k\"]*args[\"L\"]), filter_size=5, stride=2, nonlinearity=rectify, name=\"c1\")\n",
    "    conv = helper_fxns.make_dense_block(conv, args, conv_kwargs)\n",
    "    conv = Conv2DLayer(conv, num_filters=256-(args[\"k\"]*args[\"L\"]), filter_size=5, stride=2, nonlinearity=rectify, name=\"c2\")\n",
    "    conv = helper_fxns.make_dense_block(conv, args, conv_kwargs)\n",
    "    conv = Conv2DLayer(conv, num_filters=512-(args[\"k\"]*args[\"L\"]), filter_size=5, stride=2, nonlinearity=rectify, name=\"c3\")\n",
    "    conv = helper_fxns.make_dense_block(conv, args, conv_kwargs)\n",
    "    return conv"
   ]
  },
  {
   "cell_type": "markdown",
   "metadata": {},
   "source": [
    "----"
   ]
  },
  {
   "cell_type": "code",
   "execution_count": 57,
   "metadata": {
    "collapsed": false
   },
   "outputs": [
    {
     "name": "stdout",
     "output_type": "stream",
     "text": [
      "<lasagne.layers.input.InputLayer object at 0x1319ca850> (None, 16, 96, 96)\n",
      "<lasagne.layers.noise.GaussianNoiseLayer object at 0x1319ca990> (None, 16, 96, 96)\n",
      "<lasagne.layers.conv.Conv2DLayer object at 0x12f25f490> (None, 128, 46, 46)\n",
      "<lasagne.layers.conv.Conv2DLayer object at 0x12f25f5d0> (None, 256, 21, 21)\n",
      "<lasagne.layers.conv.Conv2DLayer object at 0x12f25f810> (None, 512, 9, 9)\n",
      "4148096\n"
     ]
    }
   ],
   "source": [
    "l_out, _ = architectures.climate_test_1()"
   ]
  },
  {
   "cell_type": "code",
   "execution_count": 40,
   "metadata": {
    "collapsed": false
   },
   "outputs": [
    {
     "name": "stdout",
     "output_type": "stream",
     "text": [
      "<lasagne.layers.input.InputLayer object at 0x11947f5d0> (None, 16, 96, 96)\n",
      "<lasagne.layers.conv.Conv2DLayer object at 0x11947fbd0> (None, 128, 46, 46)\n",
      "<lasagne.layers.conv.Conv2DLayer object at 0x1153ca210> (None, 256, 21, 21)\n",
      "<lasagne.layers.conv.Conv2DLayer object at 0x1153ca610> (None, 512, 9, 9)\n",
      "4148096\n"
     ]
    }
   ],
   "source": [
    "l_out = net({})\n",
    "for layer in get_all_layers(l_out):\n",
    "    print layer, layer.output_shape\n",
    "print count_params(l_out)"
   ]
  },
  {
   "cell_type": "code",
   "execution_count": 217,
   "metadata": {
    "collapsed": false
   },
   "outputs": [
    {
     "name": "stdout",
     "output_type": "stream",
     "text": [
      "464\n",
      "208\n",
      "80\n"
     ]
    }
   ],
   "source": [
    "print 512-16*3\n",
    "print 256-16*3\n",
    "print 128-16*3"
   ]
  },
  {
   "cell_type": "code",
   "execution_count": 209,
   "metadata": {
    "collapsed": false
   },
   "outputs": [
    {
     "name": "stdout",
     "output_type": "stream",
     "text": [
      "<lasagne.layers.input.InputLayer object at 0x1255ecf50> (None, 16, 96, 96)\n",
      "<lasagne.layers.conv.Conv2DLayer object at 0x1255df810> (None, 80, 46, 46)\n",
      "<lasagne.layers.conv.Conv2DLayer object at 0x1255dfb10> (None, 16, 46, 46)\n",
      "<lasagne.layers.merge.ConcatLayer object at 0x1255dfc50> (None, 96, 46, 46)\n",
      "<lasagne.layers.conv.Conv2DLayer object at 0x1255dfd90> (None, 16, 46, 46)\n",
      "<lasagne.layers.merge.ConcatLayer object at 0x1255dfed0> (None, 112, 46, 46)\n",
      "<lasagne.layers.conv.Conv2DLayer object at 0x1255dffd0> (None, 16, 46, 46)\n",
      "<lasagne.layers.merge.ConcatLayer object at 0x102180850> (None, 128, 46, 46)\n",
      "<lasagne.layers.conv.Conv2DLayer object at 0x1255df9d0> (None, 208, 21, 21)\n",
      "<lasagne.layers.conv.Conv2DLayer object at 0x1255ca290> (None, 16, 21, 21)\n",
      "<lasagne.layers.merge.ConcatLayer object at 0x1255ca3d0> (None, 224, 21, 21)\n",
      "<lasagne.layers.conv.Conv2DLayer object at 0x1255ca510> (None, 16, 21, 21)\n",
      "<lasagne.layers.merge.ConcatLayer object at 0x1255ca650> (None, 240, 21, 21)\n",
      "<lasagne.layers.conv.Conv2DLayer object at 0x1255ca790> (None, 16, 21, 21)\n",
      "<lasagne.layers.merge.ConcatLayer object at 0x1255ca8d0> (None, 256, 21, 21)\n",
      "<lasagne.layers.conv.Conv2DLayer object at 0x1255ca150> (None, 464, 9, 9)\n",
      "<lasagne.layers.conv.Conv2DLayer object at 0x1255ba0d0> (None, 16, 9, 9)\n",
      "<lasagne.layers.merge.ConcatLayer object at 0x1255ba3d0> (None, 480, 9, 9)\n",
      "<lasagne.layers.conv.Conv2DLayer object at 0x1255ba550> (None, 16, 9, 9)\n",
      "<lasagne.layers.merge.ConcatLayer object at 0x1255ba890> (None, 496, 9, 9)\n",
      "<lasagne.layers.conv.Conv2DLayer object at 0x1255bac10> (None, 16, 9, 9)\n",
      "<lasagne.layers.merge.ConcatLayer object at 0x1255bab10> (None, 512, 9, 9)\n",
      "4013696\n",
      "[(None, 80, 46, 46), (None, 208, 21, 21), (None, 464, 9, 9)]\n"
     ]
    }
   ],
   "source": [
    "l_out = net_dense({\"k\":16,\"L\":3})\n",
    "mains = [] # ok, tag the main conv layers\n",
    "for layer in get_all_layers(l_out):\n",
    "    print layer, layer.output_shape\n",
    "    if layer.output_shape[1] in [512-16*3,256-16*3,128-16*3]:\n",
    "        mains.append(layer)\n",
    "print count_params(l_out)\n",
    "print [elem.output_shape for elem in mains]"
   ]
  },
  {
   "cell_type": "code",
   "execution_count": 182,
   "metadata": {
    "collapsed": true
   },
   "outputs": [],
   "source": [
    "def make_inverse_dense_block(inp, layer, args):\n",
    "    conc = inp\n",
    "\n",
    "    #3 layers per comp unit and args['L'] units per block\n",
    "    for lay in get_all_layers(layer)[::-1][:2*args['L']]:\n",
    "        if isinstance(lay, ConcatLayer):\n",
    "            conc = make_concat_inverse(conc,layer)\n",
    "            \n",
    "    return conc, lay.input_layer\n",
    "\n",
    "\n",
    "def make_concat_inverse(inp, concat_layer):\n",
    "    first_input_shape = concat_layer.input_shapes[0][concat_layer.axis]\n",
    "    return SliceLayer(inp,indices=slice(0,first_input_shape), axis=concat_layer.axis)\n"
   ]
  },
  {
   "cell_type": "markdown",
   "metadata": {},
   "source": [
    "----"
   ]
  },
  {
   "cell_type": "code",
   "execution_count": 234,
   "metadata": {
    "collapsed": false
   },
   "outputs": [
    {
     "name": "stdout",
     "output_type": "stream",
     "text": [
      "<lasagne.layers.shape.SliceLayer object at 0x1255deb50> (None, 464, 9, 9)\n"
     ]
    }
   ],
   "source": [
    "#c2 = make_inverse_dense_block(l_out, l_out, {\"L\":3, \"k\":16})[1]\n",
    "c2 = SliceLayer(l_out, indices=slice(0, 464), axis=1)\n",
    "print c2, c2.output_shape\n",
    "#print c2.input_layer.output_shape"
   ]
  },
  {
   "cell_type": "code",
   "execution_count": 231,
   "metadata": {
    "collapsed": false
   },
   "outputs": [
    {
     "name": "stdout",
     "output_type": "stream",
     "text": [
      "(None, 256, 21, 21)\n"
     ]
    }
   ],
   "source": [
    "c2a = TransposedConv2DLayer(c2, mains[-1].input_shape[1],\n",
    "         mains[-1].filter_size, stride=mains[-1].stride, crop=mains[-1].pad,\n",
    "         W=mains[-1].W, flip_filters=not mains[-1].flip_filters)\n",
    "print c2a.output_shape"
   ]
  },
  {
   "cell_type": "code",
   "execution_count": 232,
   "metadata": {
    "collapsed": false
   },
   "outputs": [
    {
     "name": "stdout",
     "output_type": "stream",
     "text": [
      "<lasagne.layers.shape.SliceLayer object at 0x1255de790> (None, 208, 21, 21)\n"
     ]
    }
   ],
   "source": [
    "#c1 = helper_fxns.make_inverse_dense_block(c2a, c2a, {\"L\":3, \"k\":16})[1]\n",
    "c1 = SliceLayer(c2a, indices=slice(0,208), axis=1)\n",
    "print c1, c1.output_shape"
   ]
  },
  {
   "cell_type": "code",
   "execution_count": 276,
   "metadata": {
    "collapsed": false
   },
   "outputs": [
    {
     "name": "stdout",
     "output_type": "stream",
     "text": [
      "(None, 128, 46, 46)\n"
     ]
    }
   ],
   "source": [
    "c1a = TransposedConv2DLayer(c1, mains[-2].input_shape[1],\n",
    "         mains[-2].filter_size, stride=mains[-2].stride, crop=mains[-2].pad,\n",
    "         W=mains[-2].W, flip_filters=not mains[-2].flip_filters)\n",
    "# hacky\n",
    "c1a = PadLayer(c1a, width=[(1,0),(1,0)])\n",
    "print c1a.output_shape"
   ]
  },
  {
   "cell_type": "code",
   "execution_count": 277,
   "metadata": {
    "collapsed": false
   },
   "outputs": [
    {
     "data": {
      "text/plain": [
       "(None, 80, 46, 46)"
      ]
     },
     "execution_count": 277,
     "metadata": {},
     "output_type": "execute_result"
    }
   ],
   "source": [
    "c0 = SliceLayer(c1a, indices=slice(0,80), axis=1)\n",
    "c0.output_shape"
   ]
  },
  {
   "cell_type": "code",
   "execution_count": 279,
   "metadata": {
    "collapsed": false
   },
   "outputs": [
    {
     "name": "stdout",
     "output_type": "stream",
     "text": [
      "(None, 16, 96, 96)\n"
     ]
    }
   ],
   "source": [
    "c0a = TransposedConv2DLayer(c0, mains[-3].input_shape[1],\n",
    "         mains[-3].filter_size, stride=mains[-3].stride, crop=mains[-3].pad,\n",
    "         W=mains[-3].W, flip_filters=not mains[-3].flip_filters)\n",
    "c0a = PadLayer(c0a, width=[(1,0),(1,0)])\n",
    "print c0a.output_shape"
   ]
  },
  {
   "cell_type": "code",
   "execution_count": 280,
   "metadata": {
    "collapsed": false
   },
   "outputs": [
    {
     "name": "stdout",
     "output_type": "stream",
     "text": [
      "<lasagne.layers.input.InputLayer object at 0x1255ecf50> (None, 16, 96, 96)\n",
      "<lasagne.layers.conv.Conv2DLayer object at 0x1255df810> (None, 80, 46, 46)\n",
      "<lasagne.layers.conv.Conv2DLayer object at 0x1255dfb10> (None, 16, 46, 46)\n",
      "<lasagne.layers.merge.ConcatLayer object at 0x1255dfc50> (None, 96, 46, 46)\n",
      "<lasagne.layers.conv.Conv2DLayer object at 0x1255dfd90> (None, 16, 46, 46)\n",
      "<lasagne.layers.merge.ConcatLayer object at 0x1255dfed0> (None, 112, 46, 46)\n",
      "<lasagne.layers.conv.Conv2DLayer object at 0x1255dffd0> (None, 16, 46, 46)\n",
      "<lasagne.layers.merge.ConcatLayer object at 0x102180850> (None, 128, 46, 46)\n",
      "<lasagne.layers.conv.Conv2DLayer object at 0x1255df9d0> (None, 208, 21, 21)\n",
      "<lasagne.layers.conv.Conv2DLayer object at 0x1255ca290> (None, 16, 21, 21)\n",
      "<lasagne.layers.merge.ConcatLayer object at 0x1255ca3d0> (None, 224, 21, 21)\n",
      "<lasagne.layers.conv.Conv2DLayer object at 0x1255ca510> (None, 16, 21, 21)\n",
      "<lasagne.layers.merge.ConcatLayer object at 0x1255ca650> (None, 240, 21, 21)\n",
      "<lasagne.layers.conv.Conv2DLayer object at 0x1255ca790> (None, 16, 21, 21)\n",
      "<lasagne.layers.merge.ConcatLayer object at 0x1255ca8d0> (None, 256, 21, 21)\n",
      "<lasagne.layers.conv.Conv2DLayer object at 0x1255ca150> (None, 464, 9, 9)\n",
      "<lasagne.layers.conv.Conv2DLayer object at 0x1255ba0d0> (None, 16, 9, 9)\n",
      "<lasagne.layers.merge.ConcatLayer object at 0x1255ba3d0> (None, 480, 9, 9)\n",
      "<lasagne.layers.conv.Conv2DLayer object at 0x1255ba550> (None, 16, 9, 9)\n",
      "<lasagne.layers.merge.ConcatLayer object at 0x1255ba890> (None, 496, 9, 9)\n",
      "<lasagne.layers.conv.Conv2DLayer object at 0x1255bac10> (None, 16, 9, 9)\n",
      "<lasagne.layers.merge.ConcatLayer object at 0x1255bab10> (None, 512, 9, 9)\n",
      "<lasagne.layers.shape.SliceLayer object at 0x1255de6d0> (None, 464, 9, 9)\n",
      "<lasagne.layers.conv.TransposedConv2DLayer object at 0x125599510> (None, 256, 21, 21)\n",
      "<lasagne.layers.shape.SliceLayer object at 0x1255de790> (None, 208, 21, 21)\n",
      "<lasagne.layers.conv.TransposedConv2DLayer object at 0x102156a90> (None, 128, 45, 45)\n",
      "<lasagne.layers.shape.PadLayer object at 0x102159310> (None, 128, 46, 46)\n",
      "<lasagne.layers.shape.SliceLayer object at 0x1255de2d0> (None, 80, 46, 46)\n",
      "<lasagne.layers.conv.TransposedConv2DLayer object at 0x1255baf50> (None, 16, 95, 95)\n",
      "<lasagne.layers.shape.PadLayer object at 0x1255a4190> (None, 16, 96, 96)\n"
     ]
    }
   ],
   "source": [
    "for layer in get_all_layers(c0a):\n",
    "    print layer, layer.output_shape"
   ]
  },
  {
   "cell_type": "code",
   "execution_count": 91,
   "metadata": {
    "collapsed": false
   },
   "outputs": [
    {
     "data": {
      "text/plain": [
       "(None, 10)"
      ]
     },
     "execution_count": 91,
     "metadata": {},
     "output_type": "execute_result"
    }
   ],
   "source": [
    "SliceLayer(l_concat, indices=slice(20,30), axis=1).output_shape"
   ]
  },
  {
   "cell_type": "code",
   "execution_count": 145,
   "metadata": {
    "collapsed": false
   },
   "outputs": [
    {
     "data": {
      "text/plain": [
       "(None, 10)"
      ]
     },
     "execution_count": 145,
     "metadata": {},
     "output_type": "execute_result"
    }
   ],
   "source": [
    "l_concat2.input_layers[0].input_layers[0].output_shape"
   ]
  },
  {
   "cell_type": "code",
   "execution_count": null,
   "metadata": {
    "collapsed": true
   },
   "outputs": [],
   "source": []
  }
 ],
 "metadata": {
  "kernelspec": {
   "display_name": "Python 2",
   "language": "python",
   "name": "python2"
  },
  "language_info": {
   "codemirror_mode": {
    "name": "ipython",
    "version": 2
   },
   "file_extension": ".py",
   "mimetype": "text/x-python",
   "name": "python",
   "nbconvert_exporter": "python",
   "pygments_lexer": "ipython2",
   "version": "2.7.12"
  }
 },
 "nbformat": 4,
 "nbformat_minor": 0
}
