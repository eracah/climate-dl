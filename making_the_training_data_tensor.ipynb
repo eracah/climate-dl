{
 "cells": [
  {
   "cell_type": "markdown",
   "metadata": {},
   "source": [
    "# Instructions\n",
    "1. Run the cell below\n",
    "2. pick the number of days you want to generate data from: num_days\n",
    "3. call make_training_data(days=num_days)\n",
    "Note: the only year available right now is 1979\n"
   ]
  },
  {
   "cell_type": "code",
   "execution_count": 14,
   "metadata": {
    "collapsed": true
   },
   "outputs": [],
   "source": [
    "import netCDF4 as nc\n",
    "from os import listdir, system\n",
    "from os.path import isfile, join, isdir\n",
    "import re\n",
    "import numpy as np\n",
    "\n",
    "def make_time_slice(dataset, time, variables, x=768, y=1152):\n",
    "    variables_at_time_slice = [dataset[k][time] for k in variables]\n",
    "    tensor = np.vstack(variables_at_time_slice).reshape(len(variables), x,y)\n",
    "    return tensor\n",
    "\n",
    "def make_spatiotemporal_tensor(dataset,num_time_slices, variables, x=768, y=1152):\n",
    "    time_slices = [ make_time_slice(dataset, time, variables) for time in range(num_time_slices) ]\n",
    "    tensor = np.vstack(time_slices).reshape(num_time_slices, len(variables), x, y)\n",
    "    return tensor\n",
    "\n",
    "def make_training_data(year=1979, days=5):\n",
    "    # this directory can be accessed from cori\n",
    "    maindir=\"/project/projectdirs/dasrepo/gordon_bell/climate/data/big_images/\" + \\\n",
    "    str(year) \n",
    "    \n",
    "    lsdir=listdir(maindir)\n",
    "\n",
    "    rpfile = re.compile(r\"^cam5_.*\\.nc$\")\n",
    "    camfiles = [f for f in lsdir if rpfile.match(f)]\n",
    "    \n",
    "    datasets = [ nc.Dataset(maindir+'/'+camfile, \"r\", format=\"NETCDF4\") \\\n",
    "                for camfile in camfiles[:days] ]\n",
    "    \n",
    "    variables = [u'PRECT',\n",
    "                 u'PS',\n",
    "                 u'PSL',\n",
    "                 u'QREFHT',\n",
    "                 u'T200',\n",
    "                 u'T500',\n",
    "                 u'TMQ',\n",
    "                 u'TREFHT',\n",
    "                 u'TS',\n",
    "                 u'U850',\n",
    "                 u'UBOT',\n",
    "                 u'V850',\n",
    "                 u'VBOT',\n",
    "                 u'Z1000',\n",
    "                 u'Z200',\n",
    "                 u'ZBOT']\n",
    "    time_steps=8\n",
    "    x=768\n",
    "    y=1152\n",
    "    day_slices = [make_spatiotemporal_tensor(dataset,time_steps,variables) for dataset in datasets]\n",
    "    tr_data = np.vstack(day_slices).reshape(len(datasets), time_steps,len(variables), x, y)\n",
    "    \n",
    "    return tr_data"
   ]
  },
  {
   "cell_type": "code",
   "execution_count": 12,
   "metadata": {
    "collapsed": false
   },
   "outputs": [],
   "source": [
    "x_tr=make_training_data(days=2)"
   ]
  },
  {
   "cell_type": "code",
   "execution_count": 13,
   "metadata": {
    "collapsed": false
   },
   "outputs": [
    {
     "name": "stdout",
     "output_type": "stream",
     "text": [
      "(2, 8, 16, 768, 1152)\n"
     ]
    }
   ],
   "source": [
    "print x_tr.shape"
   ]
  },
  {
   "cell_type": "code",
   "execution_count": null,
   "metadata": {
    "collapsed": true
   },
   "outputs": [],
   "source": []
  }
 ],
 "metadata": {
  "kernelspec": {
   "display_name": "Python 2",
   "language": "python",
   "name": "python2"
  },
  "language_info": {
   "codemirror_mode": {
    "name": "ipython",
    "version": 2
   },
   "file_extension": ".py",
   "mimetype": "text/x-python",
   "name": "python",
   "nbconvert_exporter": "python",
   "pygments_lexer": "ipython2",
   "version": "2.7.11"
  }
 },
 "nbformat": 4,
 "nbformat_minor": 0
}
